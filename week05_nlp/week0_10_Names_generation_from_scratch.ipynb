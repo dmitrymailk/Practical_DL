{
 "cells": [
  {
   "cell_type": "markdown",
   "metadata": {},
   "source": [
    "## seq2seq practice\n",
    "### Generating names with recurrent neural networks\n",
    "\n",
    "This time you'll find yourself delving into the heart (and other intestines) of recurrent neural networks on a class of toy problems.\n",
    "\n",
    "Struggle to find a name for the variable? Let's see how you'll come up with a name for your son/daughter. Surely no human has expertize over what is a good child name, so let us train RNN instead;\n",
    "\n",
    "It's dangerous to go alone, take these:"
   ]
  },
  {
   "cell_type": "code",
   "execution_count": 1,
   "metadata": {},
   "outputs": [],
   "source": [
    "import numpy as np\n",
    "import matplotlib.pyplot as plt\n",
    "%matplotlib inline\n",
    "import os"
   ]
  },
  {
   "cell_type": "markdown",
   "metadata": {},
   "source": [
    "# Our data\n",
    "The dataset contains ~8k earthling names from different cultures, all in latin transcript.\n",
    "\n",
    "This notebook has been designed so as to allow you to quickly swap names for something similar: deep learning article titles, IKEA furniture, pokemon names, etc."
   ]
  },
  {
   "cell_type": "code",
   "execution_count": 2,
   "metadata": {},
   "outputs": [],
   "source": [
    "start_token = \" \"\n",
    "\n",
    "def read_names(path_to_file):\n",
    "    global start_token\n",
    "    \n",
    "    with open(path_to_file) as f:\n",
    "        names = f.read()[:-1].split('\\n')\n",
    "        names = [start_token + line for line in names]\n",
    "        return names"
   ]
  },
  {
   "cell_type": "code",
   "execution_count": 3,
   "metadata": {},
   "outputs": [],
   "source": [
    "try:\n",
    "    names = read_names('names')\n",
    "except FileNotFoundError:\n",
    "    !wget https://raw.githubusercontent.com/girafe-ai/ml-mipt/master/datasets/names_dataset/names -nc -O names\n",
    "    names = read_names('./names')"
   ]
  },
  {
   "cell_type": "code",
   "execution_count": 4,
   "metadata": {},
   "outputs": [
    {
     "output_type": "stream",
     "name": "stdout",
     "text": [
      "n samples =  7944\n Abagael\n Claresta\n Glory\n Liliane\n Prissie\n Geeta\n Giovanne\n Piggy\n"
     ]
    }
   ],
   "source": [
    "print ('n samples = ',len(names))\n",
    "for x in names[::1000]:\n",
    "    print (x)"
   ]
  },
  {
   "cell_type": "code",
   "execution_count": 5,
   "metadata": {},
   "outputs": [
    {
     "output_type": "stream",
     "name": "stdout",
     "text": [
      "max length = 16\n"
     ]
    },
    {
     "output_type": "display_data",
     "data": {
      "text/plain": "<Figure size 432x288 with 1 Axes>",
      "image/svg+xml": "<?xml version=\"1.0\" encoding=\"utf-8\" standalone=\"no\"?>\r\n<!DOCTYPE svg PUBLIC \"-//W3C//DTD SVG 1.1//EN\"\r\n  \"http://www.w3.org/Graphics/SVG/1.1/DTD/svg11.dtd\">\r\n<!-- Created with matplotlib (https://matplotlib.org/) -->\r\n<svg height=\"263.63625pt\" version=\"1.1\" viewBox=\"0 0 381.65 263.63625\" width=\"381.65pt\" xmlns=\"http://www.w3.org/2000/svg\" xmlns:xlink=\"http://www.w3.org/1999/xlink\">\r\n <metadata>\r\n  <rdf:RDF xmlns:cc=\"http://creativecommons.org/ns#\" xmlns:dc=\"http://purl.org/dc/elements/1.1/\" xmlns:rdf=\"http://www.w3.org/1999/02/22-rdf-syntax-ns#\">\r\n   <cc:Work>\r\n    <dc:type rdf:resource=\"http://purl.org/dc/dcmitype/StillImage\"/>\r\n    <dc:date>2020-12-08T15:34:09.897357</dc:date>\r\n    <dc:format>image/svg+xml</dc:format>\r\n    <dc:creator>\r\n     <cc:Agent>\r\n      <dc:title>Matplotlib v3.3.2, https://matplotlib.org/</dc:title>\r\n     </cc:Agent>\r\n    </dc:creator>\r\n   </cc:Work>\r\n  </rdf:RDF>\r\n </metadata>\r\n <defs>\r\n  <style type=\"text/css\">*{stroke-linecap:butt;stroke-linejoin:round;}</style>\r\n </defs>\r\n <g id=\"figure_1\">\r\n  <g id=\"patch_1\">\r\n   <path d=\"M -0 263.63625 \r\nL 381.65 263.63625 \r\nL 381.65 0 \r\nL -0 0 \r\nz\r\n\" style=\"fill:none;\"/>\r\n  </g>\r\n  <g id=\"axes_1\">\r\n   <g id=\"patch_2\">\r\n    <path d=\"M 39.65 239.758125 \r\nL 374.45 239.758125 \r\nL 374.45 22.318125 \r\nL 39.65 22.318125 \r\nz\r\n\" style=\"fill:#ffffff;\"/>\r\n   </g>\r\n   <g id=\"patch_3\">\r\n    <path clip-path=\"url(#pfca918dfb7)\" d=\"M 54.868182 239.758125 \r\nL 67.042727 239.758125 \r\nL 67.042727 237.837857 \r\nL 54.868182 237.837857 \r\nz\r\n\" style=\"fill:#1f77b4;\"/>\r\n   </g>\r\n   <g id=\"patch_4\">\r\n    <path clip-path=\"url(#pfca918dfb7)\" d=\"M 67.042727 239.758125 \r\nL 79.217273 239.758125 \r\nL 79.217273 212.267976 \r\nL 67.042727 212.267976 \r\nz\r\n\" style=\"fill:#1f77b4;\"/>\r\n   </g>\r\n   <g id=\"patch_5\">\r\n    <path clip-path=\"url(#pfca918dfb7)\" d=\"M 79.217273 239.758125 \r\nL 91.391818 239.758125 \r\nL 91.391818 239.758125 \r\nL 79.217273 239.758125 \r\nz\r\n\" style=\"fill:#1f77b4;\"/>\r\n   </g>\r\n   <g id=\"patch_6\">\r\n    <path clip-path=\"url(#pfca918dfb7)\" d=\"M 91.391818 239.758125 \r\nL 103.566364 239.758125 \r\nL 103.566364 146.069273 \r\nL 91.391818 146.069273 \r\nz\r\n\" style=\"fill:#1f77b4;\"/>\r\n   </g>\r\n   <g id=\"patch_7\">\r\n    <path clip-path=\"url(#pfca918dfb7)\" d=\"M 103.566364 239.758125 \r\nL 115.740909 239.758125 \r\nL 115.740909 239.758125 \r\nL 103.566364 239.758125 \r\nz\r\n\" style=\"fill:#1f77b4;\"/>\r\n   </g>\r\n   <g id=\"patch_8\">\r\n    <path clip-path=\"url(#pfca918dfb7)\" d=\"M 115.740909 239.758125 \r\nL 127.915455 239.758125 \r\nL 127.915455 50.055887 \r\nL 115.740909 50.055887 \r\nz\r\n\" style=\"fill:#1f77b4;\"/>\r\n   </g>\r\n   <g id=\"patch_9\">\r\n    <path clip-path=\"url(#pfca918dfb7)\" d=\"M 127.915455 239.758125 \r\nL 140.09 239.758125 \r\nL 140.09 239.758125 \r\nL 127.915455 239.758125 \r\nz\r\n\" style=\"fill:#1f77b4;\"/>\r\n   </g>\r\n   <g id=\"patch_10\">\r\n    <path clip-path=\"url(#pfca918dfb7)\" d=\"M 140.09 239.758125 \r\nL 152.264545 239.758125 \r\nL 152.264545 32.672411 \r\nL 140.09 32.672411 \r\nz\r\n\" style=\"fill:#1f77b4;\"/>\r\n   </g>\r\n   <g id=\"patch_11\">\r\n    <path clip-path=\"url(#pfca918dfb7)\" d=\"M 152.264545 239.758125 \r\nL 164.439091 239.758125 \r\nL 164.439091 239.758125 \r\nL 152.264545 239.758125 \r\nz\r\n\" style=\"fill:#1f77b4;\"/>\r\n   </g>\r\n   <g id=\"patch_12\">\r\n    <path clip-path=\"url(#pfca918dfb7)\" d=\"M 164.439091 239.758125 \r\nL 176.613636 239.758125 \r\nL 176.613636 93.514578 \r\nL 164.439091 93.514578 \r\nz\r\n\" style=\"fill:#1f77b4;\"/>\r\n   </g>\r\n   <g id=\"patch_13\">\r\n    <path clip-path=\"url(#pfca918dfb7)\" d=\"M 176.613636 239.758125 \r\nL 188.788182 239.758125 \r\nL 188.788182 239.758125 \r\nL 176.613636 239.758125 \r\nz\r\n\" style=\"fill:#1f77b4;\"/>\r\n   </g>\r\n   <g id=\"patch_14\">\r\n    <path clip-path=\"url(#pfca918dfb7)\" d=\"M 188.788182 239.758125 \r\nL 200.962727 239.758125 \r\nL 200.962727 154.255678 \r\nL 188.788182 154.255678 \r\nz\r\n\" style=\"fill:#1f77b4;\"/>\r\n   </g>\r\n   <g id=\"patch_15\">\r\n    <path clip-path=\"url(#pfca918dfb7)\" d=\"M 200.962727 239.758125 \r\nL 213.137273 239.758125 \r\nL 213.137273 239.758125 \r\nL 200.962727 239.758125 \r\nz\r\n\" style=\"fill:#1f77b4;\"/>\r\n   </g>\r\n   <g id=\"patch_16\">\r\n    <path clip-path=\"url(#pfca918dfb7)\" d=\"M 213.137273 239.758125 \r\nL 225.311818 239.758125 \r\nL 225.311818 204.283705 \r\nL 213.137273 204.283705 \r\nz\r\n\" style=\"fill:#1f77b4;\"/>\r\n   </g>\r\n   <g id=\"patch_17\">\r\n    <path clip-path=\"url(#pfca918dfb7)\" d=\"M 225.311818 239.758125 \r\nL 237.486364 239.758125 \r\nL 237.486364 239.758125 \r\nL 225.311818 239.758125 \r\nz\r\n\" style=\"fill:#1f77b4;\"/>\r\n   </g>\r\n   <g id=\"patch_18\">\r\n    <path clip-path=\"url(#pfca918dfb7)\" d=\"M 237.486364 239.758125 \r\nL 249.660909 239.758125 \r\nL 249.660909 228.034385 \r\nL 237.486364 228.034385 \r\nz\r\n\" style=\"fill:#1f77b4;\"/>\r\n   </g>\r\n   <g id=\"patch_19\">\r\n    <path clip-path=\"url(#pfca918dfb7)\" d=\"M 249.660909 239.758125 \r\nL 261.835455 239.758125 \r\nL 261.835455 239.758125 \r\nL 249.660909 239.758125 \r\nz\r\n\" style=\"fill:#1f77b4;\"/>\r\n   </g>\r\n   <g id=\"patch_20\">\r\n    <path clip-path=\"url(#pfca918dfb7)\" d=\"M 261.835455 239.758125 \r\nL 274.01 239.758125 \r\nL 274.01 237.332524 \r\nL 261.835455 237.332524 \r\nz\r\n\" style=\"fill:#1f77b4;\"/>\r\n   </g>\r\n   <g id=\"patch_21\">\r\n    <path clip-path=\"url(#pfca918dfb7)\" d=\"M 274.01 239.758125 \r\nL 286.184545 239.758125 \r\nL 286.184545 239.758125 \r\nL 274.01 239.758125 \r\nz\r\n\" style=\"fill:#1f77b4;\"/>\r\n   </g>\r\n   <g id=\"patch_22\">\r\n    <path clip-path=\"url(#pfca918dfb7)\" d=\"M 286.184545 239.758125 \r\nL 298.359091 239.758125 \r\nL 298.359091 238.747458 \r\nL 286.184545 238.747458 \r\nz\r\n\" style=\"fill:#1f77b4;\"/>\r\n   </g>\r\n   <g id=\"patch_23\">\r\n    <path clip-path=\"url(#pfca918dfb7)\" d=\"M 298.359091 239.758125 \r\nL 310.533636 239.758125 \r\nL 310.533636 239.758125 \r\nL 298.359091 239.758125 \r\nz\r\n\" style=\"fill:#1f77b4;\"/>\r\n   </g>\r\n   <g id=\"patch_24\">\r\n    <path clip-path=\"url(#pfca918dfb7)\" d=\"M 310.533636 239.758125 \r\nL 322.708182 239.758125 \r\nL 322.708182 239.454925 \r\nL 310.533636 239.454925 \r\nz\r\n\" style=\"fill:#1f77b4;\"/>\r\n   </g>\r\n   <g id=\"patch_25\">\r\n    <path clip-path=\"url(#pfca918dfb7)\" d=\"M 322.708182 239.758125 \r\nL 334.882727 239.758125 \r\nL 334.882727 239.758125 \r\nL 322.708182 239.758125 \r\nz\r\n\" style=\"fill:#1f77b4;\"/>\r\n   </g>\r\n   <g id=\"patch_26\">\r\n    <path clip-path=\"url(#pfca918dfb7)\" d=\"M 334.882727 239.758125 \r\nL 347.057273 239.758125 \r\nL 347.057273 239.657058 \r\nL 334.882727 239.657058 \r\nz\r\n\" style=\"fill:#1f77b4;\"/>\r\n   </g>\r\n   <g id=\"patch_27\">\r\n    <path clip-path=\"url(#pfca918dfb7)\" d=\"M 347.057273 239.758125 \r\nL 359.231818 239.758125 \r\nL 359.231818 239.555992 \r\nL 347.057273 239.555992 \r\nz\r\n\" style=\"fill:#1f77b4;\"/>\r\n   </g>\r\n   <g id=\"matplotlib.axis_1\">\r\n    <g id=\"xtick_1\">\r\n     <g id=\"line2d_1\">\r\n      <defs>\r\n       <path d=\"M 0 0 \r\nL 0 3.5 \r\n\" id=\"m0a0e7ac51e\" style=\"stroke:#000000;stroke-width:0.8;\"/>\r\n      </defs>\r\n      <g>\r\n       <use style=\"stroke:#000000;stroke-width:0.8;\" x=\"78.280769\" xlink:href=\"#m0a0e7ac51e\" y=\"239.758125\"/>\r\n      </g>\r\n     </g>\r\n     <g id=\"text_1\">\r\n      <!-- 4 -->\r\n      <g transform=\"translate(75.099519 254.356563)scale(0.1 -0.1)\">\r\n       <defs>\r\n        <path d=\"M 37.796875 64.3125 \r\nL 12.890625 25.390625 \r\nL 37.796875 25.390625 \r\nz\r\nM 35.203125 72.90625 \r\nL 47.609375 72.90625 \r\nL 47.609375 25.390625 \r\nL 58.015625 25.390625 \r\nL 58.015625 17.1875 \r\nL 47.609375 17.1875 \r\nL 47.609375 0 \r\nL 37.796875 0 \r\nL 37.796875 17.1875 \r\nL 4.890625 17.1875 \r\nL 4.890625 26.703125 \r\nz\r\n\" id=\"DejaVuSans-52\"/>\r\n       </defs>\r\n       <use xlink:href=\"#DejaVuSans-52\"/>\r\n      </g>\r\n     </g>\r\n    </g>\r\n    <g id=\"xtick_2\">\r\n     <g id=\"line2d_2\">\r\n      <g>\r\n       <use style=\"stroke:#000000;stroke-width:0.8;\" x=\"125.105944\" xlink:href=\"#m0a0e7ac51e\" y=\"239.758125\"/>\r\n      </g>\r\n     </g>\r\n     <g id=\"text_2\">\r\n      <!-- 6 -->\r\n      <g transform=\"translate(121.924694 254.356563)scale(0.1 -0.1)\">\r\n       <defs>\r\n        <path d=\"M 33.015625 40.375 \r\nQ 26.375 40.375 22.484375 35.828125 \r\nQ 18.609375 31.296875 18.609375 23.390625 \r\nQ 18.609375 15.53125 22.484375 10.953125 \r\nQ 26.375 6.390625 33.015625 6.390625 \r\nQ 39.65625 6.390625 43.53125 10.953125 \r\nQ 47.40625 15.53125 47.40625 23.390625 \r\nQ 47.40625 31.296875 43.53125 35.828125 \r\nQ 39.65625 40.375 33.015625 40.375 \r\nz\r\nM 52.59375 71.296875 \r\nL 52.59375 62.3125 \r\nQ 48.875 64.0625 45.09375 64.984375 \r\nQ 41.3125 65.921875 37.59375 65.921875 \r\nQ 27.828125 65.921875 22.671875 59.328125 \r\nQ 17.53125 52.734375 16.796875 39.40625 \r\nQ 19.671875 43.65625 24.015625 45.921875 \r\nQ 28.375 48.1875 33.59375 48.1875 \r\nQ 44.578125 48.1875 50.953125 41.515625 \r\nQ 57.328125 34.859375 57.328125 23.390625 \r\nQ 57.328125 12.15625 50.6875 5.359375 \r\nQ 44.046875 -1.421875 33.015625 -1.421875 \r\nQ 20.359375 -1.421875 13.671875 8.265625 \r\nQ 6.984375 17.96875 6.984375 36.375 \r\nQ 6.984375 53.65625 15.1875 63.9375 \r\nQ 23.390625 74.21875 37.203125 74.21875 \r\nQ 40.921875 74.21875 44.703125 73.484375 \r\nQ 48.484375 72.75 52.59375 71.296875 \r\nz\r\n\" id=\"DejaVuSans-54\"/>\r\n       </defs>\r\n       <use xlink:href=\"#DejaVuSans-54\"/>\r\n      </g>\r\n     </g>\r\n    </g>\r\n    <g id=\"xtick_3\">\r\n     <g id=\"line2d_3\">\r\n      <g>\r\n       <use style=\"stroke:#000000;stroke-width:0.8;\" x=\"171.931119\" xlink:href=\"#m0a0e7ac51e\" y=\"239.758125\"/>\r\n      </g>\r\n     </g>\r\n     <g id=\"text_3\">\r\n      <!-- 8 -->\r\n      <g transform=\"translate(168.749869 254.356563)scale(0.1 -0.1)\">\r\n       <defs>\r\n        <path d=\"M 31.78125 34.625 \r\nQ 24.75 34.625 20.71875 30.859375 \r\nQ 16.703125 27.09375 16.703125 20.515625 \r\nQ 16.703125 13.921875 20.71875 10.15625 \r\nQ 24.75 6.390625 31.78125 6.390625 \r\nQ 38.8125 6.390625 42.859375 10.171875 \r\nQ 46.921875 13.96875 46.921875 20.515625 \r\nQ 46.921875 27.09375 42.890625 30.859375 \r\nQ 38.875 34.625 31.78125 34.625 \r\nz\r\nM 21.921875 38.8125 \r\nQ 15.578125 40.375 12.03125 44.71875 \r\nQ 8.5 49.078125 8.5 55.328125 \r\nQ 8.5 64.0625 14.71875 69.140625 \r\nQ 20.953125 74.21875 31.78125 74.21875 \r\nQ 42.671875 74.21875 48.875 69.140625 \r\nQ 55.078125 64.0625 55.078125 55.328125 \r\nQ 55.078125 49.078125 51.53125 44.71875 \r\nQ 48 40.375 41.703125 38.8125 \r\nQ 48.828125 37.15625 52.796875 32.3125 \r\nQ 56.78125 27.484375 56.78125 20.515625 \r\nQ 56.78125 9.90625 50.3125 4.234375 \r\nQ 43.84375 -1.421875 31.78125 -1.421875 \r\nQ 19.734375 -1.421875 13.25 4.234375 \r\nQ 6.78125 9.90625 6.78125 20.515625 \r\nQ 6.78125 27.484375 10.78125 32.3125 \r\nQ 14.796875 37.15625 21.921875 38.8125 \r\nz\r\nM 18.3125 54.390625 \r\nQ 18.3125 48.734375 21.84375 45.5625 \r\nQ 25.390625 42.390625 31.78125 42.390625 \r\nQ 38.140625 42.390625 41.71875 45.5625 \r\nQ 45.3125 48.734375 45.3125 54.390625 \r\nQ 45.3125 60.0625 41.71875 63.234375 \r\nQ 38.140625 66.40625 31.78125 66.40625 \r\nQ 25.390625 66.40625 21.84375 63.234375 \r\nQ 18.3125 60.0625 18.3125 54.390625 \r\nz\r\n\" id=\"DejaVuSans-56\"/>\r\n       </defs>\r\n       <use xlink:href=\"#DejaVuSans-56\"/>\r\n      </g>\r\n     </g>\r\n    </g>\r\n    <g id=\"xtick_4\">\r\n     <g id=\"line2d_4\">\r\n      <g>\r\n       <use style=\"stroke:#000000;stroke-width:0.8;\" x=\"218.756294\" xlink:href=\"#m0a0e7ac51e\" y=\"239.758125\"/>\r\n      </g>\r\n     </g>\r\n     <g id=\"text_4\">\r\n      <!-- 10 -->\r\n      <g transform=\"translate(212.393794 254.356563)scale(0.1 -0.1)\">\r\n       <defs>\r\n        <path d=\"M 12.40625 8.296875 \r\nL 28.515625 8.296875 \r\nL 28.515625 63.921875 \r\nL 10.984375 60.40625 \r\nL 10.984375 69.390625 \r\nL 28.421875 72.90625 \r\nL 38.28125 72.90625 \r\nL 38.28125 8.296875 \r\nL 54.390625 8.296875 \r\nL 54.390625 0 \r\nL 12.40625 0 \r\nz\r\n\" id=\"DejaVuSans-49\"/>\r\n        <path d=\"M 31.78125 66.40625 \r\nQ 24.171875 66.40625 20.328125 58.90625 \r\nQ 16.5 51.421875 16.5 36.375 \r\nQ 16.5 21.390625 20.328125 13.890625 \r\nQ 24.171875 6.390625 31.78125 6.390625 \r\nQ 39.453125 6.390625 43.28125 13.890625 \r\nQ 47.125 21.390625 47.125 36.375 \r\nQ 47.125 51.421875 43.28125 58.90625 \r\nQ 39.453125 66.40625 31.78125 66.40625 \r\nz\r\nM 31.78125 74.21875 \r\nQ 44.046875 74.21875 50.515625 64.515625 \r\nQ 56.984375 54.828125 56.984375 36.375 \r\nQ 56.984375 17.96875 50.515625 8.265625 \r\nQ 44.046875 -1.421875 31.78125 -1.421875 \r\nQ 19.53125 -1.421875 13.0625 8.265625 \r\nQ 6.59375 17.96875 6.59375 36.375 \r\nQ 6.59375 54.828125 13.0625 64.515625 \r\nQ 19.53125 74.21875 31.78125 74.21875 \r\nz\r\n\" id=\"DejaVuSans-48\"/>\r\n       </defs>\r\n       <use xlink:href=\"#DejaVuSans-49\"/>\r\n       <use x=\"63.623047\" xlink:href=\"#DejaVuSans-48\"/>\r\n      </g>\r\n     </g>\r\n    </g>\r\n    <g id=\"xtick_5\">\r\n     <g id=\"line2d_5\">\r\n      <g>\r\n       <use style=\"stroke:#000000;stroke-width:0.8;\" x=\"265.581469\" xlink:href=\"#m0a0e7ac51e\" y=\"239.758125\"/>\r\n      </g>\r\n     </g>\r\n     <g id=\"text_5\">\r\n      <!-- 12 -->\r\n      <g transform=\"translate(259.218969 254.356563)scale(0.1 -0.1)\">\r\n       <defs>\r\n        <path d=\"M 19.1875 8.296875 \r\nL 53.609375 8.296875 \r\nL 53.609375 0 \r\nL 7.328125 0 \r\nL 7.328125 8.296875 \r\nQ 12.9375 14.109375 22.625 23.890625 \r\nQ 32.328125 33.6875 34.8125 36.53125 \r\nQ 39.546875 41.84375 41.421875 45.53125 \r\nQ 43.3125 49.21875 43.3125 52.78125 \r\nQ 43.3125 58.59375 39.234375 62.25 \r\nQ 35.15625 65.921875 28.609375 65.921875 \r\nQ 23.96875 65.921875 18.8125 64.3125 \r\nQ 13.671875 62.703125 7.8125 59.421875 \r\nL 7.8125 69.390625 \r\nQ 13.765625 71.78125 18.9375 73 \r\nQ 24.125 74.21875 28.421875 74.21875 \r\nQ 39.75 74.21875 46.484375 68.546875 \r\nQ 53.21875 62.890625 53.21875 53.421875 \r\nQ 53.21875 48.921875 51.53125 44.890625 \r\nQ 49.859375 40.875 45.40625 35.40625 \r\nQ 44.1875 33.984375 37.640625 27.21875 \r\nQ 31.109375 20.453125 19.1875 8.296875 \r\nz\r\n\" id=\"DejaVuSans-50\"/>\r\n       </defs>\r\n       <use xlink:href=\"#DejaVuSans-49\"/>\r\n       <use x=\"63.623047\" xlink:href=\"#DejaVuSans-50\"/>\r\n      </g>\r\n     </g>\r\n    </g>\r\n    <g id=\"xtick_6\">\r\n     <g id=\"line2d_6\">\r\n      <g>\r\n       <use style=\"stroke:#000000;stroke-width:0.8;\" x=\"312.406643\" xlink:href=\"#m0a0e7ac51e\" y=\"239.758125\"/>\r\n      </g>\r\n     </g>\r\n     <g id=\"text_6\">\r\n      <!-- 14 -->\r\n      <g transform=\"translate(306.044143 254.356563)scale(0.1 -0.1)\">\r\n       <use xlink:href=\"#DejaVuSans-49\"/>\r\n       <use x=\"63.623047\" xlink:href=\"#DejaVuSans-52\"/>\r\n      </g>\r\n     </g>\r\n    </g>\r\n    <g id=\"xtick_7\">\r\n     <g id=\"line2d_7\">\r\n      <g>\r\n       <use style=\"stroke:#000000;stroke-width:0.8;\" x=\"359.231818\" xlink:href=\"#m0a0e7ac51e\" y=\"239.758125\"/>\r\n      </g>\r\n     </g>\r\n     <g id=\"text_7\">\r\n      <!-- 16 -->\r\n      <g transform=\"translate(352.869318 254.356563)scale(0.1 -0.1)\">\r\n       <use xlink:href=\"#DejaVuSans-49\"/>\r\n       <use x=\"63.623047\" xlink:href=\"#DejaVuSans-54\"/>\r\n      </g>\r\n     </g>\r\n    </g>\r\n   </g>\r\n   <g id=\"matplotlib.axis_2\">\r\n    <g id=\"ytick_1\">\r\n     <g id=\"line2d_8\">\r\n      <defs>\r\n       <path d=\"M 0 0 \r\nL -3.5 0 \r\n\" id=\"mdeaa49d7ad\" style=\"stroke:#000000;stroke-width:0.8;\"/>\r\n      </defs>\r\n      <g>\r\n       <use style=\"stroke:#000000;stroke-width:0.8;\" x=\"39.65\" xlink:href=\"#mdeaa49d7ad\" y=\"239.758125\"/>\r\n      </g>\r\n     </g>\r\n     <g id=\"text_8\">\r\n      <!-- 0 -->\r\n      <g transform=\"translate(26.2875 243.557344)scale(0.1 -0.1)\">\r\n       <use xlink:href=\"#DejaVuSans-48\"/>\r\n      </g>\r\n     </g>\r\n    </g>\r\n    <g id=\"ytick_2\">\r\n     <g id=\"line2d_9\">\r\n      <g>\r\n       <use style=\"stroke:#000000;stroke-width:0.8;\" x=\"39.65\" xlink:href=\"#mdeaa49d7ad\" y=\"214.491444\"/>\r\n      </g>\r\n     </g>\r\n     <g id=\"text_9\">\r\n      <!-- 250 -->\r\n      <g transform=\"translate(13.5625 218.290663)scale(0.1 -0.1)\">\r\n       <defs>\r\n        <path d=\"M 10.796875 72.90625 \r\nL 49.515625 72.90625 \r\nL 49.515625 64.59375 \r\nL 19.828125 64.59375 \r\nL 19.828125 46.734375 \r\nQ 21.96875 47.46875 24.109375 47.828125 \r\nQ 26.265625 48.1875 28.421875 48.1875 \r\nQ 40.625 48.1875 47.75 41.5 \r\nQ 54.890625 34.8125 54.890625 23.390625 \r\nQ 54.890625 11.625 47.5625 5.09375 \r\nQ 40.234375 -1.421875 26.90625 -1.421875 \r\nQ 22.3125 -1.421875 17.546875 -0.640625 \r\nQ 12.796875 0.140625 7.71875 1.703125 \r\nL 7.71875 11.625 \r\nQ 12.109375 9.234375 16.796875 8.0625 \r\nQ 21.484375 6.890625 26.703125 6.890625 \r\nQ 35.15625 6.890625 40.078125 11.328125 \r\nQ 45.015625 15.765625 45.015625 23.390625 \r\nQ 45.015625 31 40.078125 35.4375 \r\nQ 35.15625 39.890625 26.703125 39.890625 \r\nQ 22.75 39.890625 18.8125 39.015625 \r\nQ 14.890625 38.140625 10.796875 36.28125 \r\nz\r\n\" id=\"DejaVuSans-53\"/>\r\n       </defs>\r\n       <use xlink:href=\"#DejaVuSans-50\"/>\r\n       <use x=\"63.623047\" xlink:href=\"#DejaVuSans-53\"/>\r\n       <use x=\"127.246094\" xlink:href=\"#DejaVuSans-48\"/>\r\n      </g>\r\n     </g>\r\n    </g>\r\n    <g id=\"ytick_3\">\r\n     <g id=\"line2d_10\">\r\n      <g>\r\n       <use style=\"stroke:#000000;stroke-width:0.8;\" x=\"39.65\" xlink:href=\"#mdeaa49d7ad\" y=\"189.224764\"/>\r\n      </g>\r\n     </g>\r\n     <g id=\"text_10\">\r\n      <!-- 500 -->\r\n      <g transform=\"translate(13.5625 193.023983)scale(0.1 -0.1)\">\r\n       <use xlink:href=\"#DejaVuSans-53\"/>\r\n       <use x=\"63.623047\" xlink:href=\"#DejaVuSans-48\"/>\r\n       <use x=\"127.246094\" xlink:href=\"#DejaVuSans-48\"/>\r\n      </g>\r\n     </g>\r\n    </g>\r\n    <g id=\"ytick_4\">\r\n     <g id=\"line2d_11\">\r\n      <g>\r\n       <use style=\"stroke:#000000;stroke-width:0.8;\" x=\"39.65\" xlink:href=\"#mdeaa49d7ad\" y=\"163.958083\"/>\r\n      </g>\r\n     </g>\r\n     <g id=\"text_11\">\r\n      <!-- 750 -->\r\n      <g transform=\"translate(13.5625 167.757302)scale(0.1 -0.1)\">\r\n       <defs>\r\n        <path d=\"M 8.203125 72.90625 \r\nL 55.078125 72.90625 \r\nL 55.078125 68.703125 \r\nL 28.609375 0 \r\nL 18.3125 0 \r\nL 43.21875 64.59375 \r\nL 8.203125 64.59375 \r\nz\r\n\" id=\"DejaVuSans-55\"/>\r\n       </defs>\r\n       <use xlink:href=\"#DejaVuSans-55\"/>\r\n       <use x=\"63.623047\" xlink:href=\"#DejaVuSans-53\"/>\r\n       <use x=\"127.246094\" xlink:href=\"#DejaVuSans-48\"/>\r\n      </g>\r\n     </g>\r\n    </g>\r\n    <g id=\"ytick_5\">\r\n     <g id=\"line2d_12\">\r\n      <g>\r\n       <use style=\"stroke:#000000;stroke-width:0.8;\" x=\"39.65\" xlink:href=\"#mdeaa49d7ad\" y=\"138.691403\"/>\r\n      </g>\r\n     </g>\r\n     <g id=\"text_12\">\r\n      <!-- 1000 -->\r\n      <g transform=\"translate(7.2 142.490621)scale(0.1 -0.1)\">\r\n       <use xlink:href=\"#DejaVuSans-49\"/>\r\n       <use x=\"63.623047\" xlink:href=\"#DejaVuSans-48\"/>\r\n       <use x=\"127.246094\" xlink:href=\"#DejaVuSans-48\"/>\r\n       <use x=\"190.869141\" xlink:href=\"#DejaVuSans-48\"/>\r\n      </g>\r\n     </g>\r\n    </g>\r\n    <g id=\"ytick_6\">\r\n     <g id=\"line2d_13\">\r\n      <g>\r\n       <use style=\"stroke:#000000;stroke-width:0.8;\" x=\"39.65\" xlink:href=\"#mdeaa49d7ad\" y=\"113.424722\"/>\r\n      </g>\r\n     </g>\r\n     <g id=\"text_13\">\r\n      <!-- 1250 -->\r\n      <g transform=\"translate(7.2 117.223941)scale(0.1 -0.1)\">\r\n       <use xlink:href=\"#DejaVuSans-49\"/>\r\n       <use x=\"63.623047\" xlink:href=\"#DejaVuSans-50\"/>\r\n       <use x=\"127.246094\" xlink:href=\"#DejaVuSans-53\"/>\r\n       <use x=\"190.869141\" xlink:href=\"#DejaVuSans-48\"/>\r\n      </g>\r\n     </g>\r\n    </g>\r\n    <g id=\"ytick_7\">\r\n     <g id=\"line2d_14\">\r\n      <g>\r\n       <use style=\"stroke:#000000;stroke-width:0.8;\" x=\"39.65\" xlink:href=\"#mdeaa49d7ad\" y=\"88.158041\"/>\r\n      </g>\r\n     </g>\r\n     <g id=\"text_14\">\r\n      <!-- 1500 -->\r\n      <g transform=\"translate(7.2 91.95726)scale(0.1 -0.1)\">\r\n       <use xlink:href=\"#DejaVuSans-49\"/>\r\n       <use x=\"63.623047\" xlink:href=\"#DejaVuSans-53\"/>\r\n       <use x=\"127.246094\" xlink:href=\"#DejaVuSans-48\"/>\r\n       <use x=\"190.869141\" xlink:href=\"#DejaVuSans-48\"/>\r\n      </g>\r\n     </g>\r\n    </g>\r\n    <g id=\"ytick_8\">\r\n     <g id=\"line2d_15\">\r\n      <g>\r\n       <use style=\"stroke:#000000;stroke-width:0.8;\" x=\"39.65\" xlink:href=\"#mdeaa49d7ad\" y=\"62.891361\"/>\r\n      </g>\r\n     </g>\r\n     <g id=\"text_15\">\r\n      <!-- 1750 -->\r\n      <g transform=\"translate(7.2 66.690579)scale(0.1 -0.1)\">\r\n       <use xlink:href=\"#DejaVuSans-49\"/>\r\n       <use x=\"63.623047\" xlink:href=\"#DejaVuSans-55\"/>\r\n       <use x=\"127.246094\" xlink:href=\"#DejaVuSans-53\"/>\r\n       <use x=\"190.869141\" xlink:href=\"#DejaVuSans-48\"/>\r\n      </g>\r\n     </g>\r\n    </g>\r\n    <g id=\"ytick_9\">\r\n     <g id=\"line2d_16\">\r\n      <g>\r\n       <use style=\"stroke:#000000;stroke-width:0.8;\" x=\"39.65\" xlink:href=\"#mdeaa49d7ad\" y=\"37.62468\"/>\r\n      </g>\r\n     </g>\r\n     <g id=\"text_16\">\r\n      <!-- 2000 -->\r\n      <g transform=\"translate(7.2 41.423899)scale(0.1 -0.1)\">\r\n       <use xlink:href=\"#DejaVuSans-50\"/>\r\n       <use x=\"63.623047\" xlink:href=\"#DejaVuSans-48\"/>\r\n       <use x=\"127.246094\" xlink:href=\"#DejaVuSans-48\"/>\r\n       <use x=\"190.869141\" xlink:href=\"#DejaVuSans-48\"/>\r\n      </g>\r\n     </g>\r\n    </g>\r\n   </g>\r\n   <g id=\"patch_28\">\r\n    <path d=\"M 39.65 239.758125 \r\nL 39.65 22.318125 \r\n\" style=\"fill:none;stroke:#000000;stroke-linecap:square;stroke-linejoin:miter;stroke-width:0.8;\"/>\r\n   </g>\r\n   <g id=\"patch_29\">\r\n    <path d=\"M 374.45 239.758125 \r\nL 374.45 22.318125 \r\n\" style=\"fill:none;stroke:#000000;stroke-linecap:square;stroke-linejoin:miter;stroke-width:0.8;\"/>\r\n   </g>\r\n   <g id=\"patch_30\">\r\n    <path d=\"M 39.65 239.758125 \r\nL 374.45 239.758125 \r\n\" style=\"fill:none;stroke:#000000;stroke-linecap:square;stroke-linejoin:miter;stroke-width:0.8;\"/>\r\n   </g>\r\n   <g id=\"patch_31\">\r\n    <path d=\"M 39.65 22.318125 \r\nL 374.45 22.318125 \r\n\" style=\"fill:none;stroke:#000000;stroke-linecap:square;stroke-linejoin:miter;stroke-width:0.8;\"/>\r\n   </g>\r\n   <g id=\"text_17\">\r\n    <!-- Sequence length distribution -->\r\n    <g transform=\"translate(120.321875 16.318125)scale(0.12 -0.12)\">\r\n     <defs>\r\n      <path d=\"M 53.515625 70.515625 \r\nL 53.515625 60.890625 \r\nQ 47.90625 63.578125 42.921875 64.890625 \r\nQ 37.9375 66.21875 33.296875 66.21875 \r\nQ 25.25 66.21875 20.875 63.09375 \r\nQ 16.5 59.96875 16.5 54.203125 \r\nQ 16.5 49.359375 19.40625 46.890625 \r\nQ 22.3125 44.4375 30.421875 42.921875 \r\nL 36.375 41.703125 \r\nQ 47.40625 39.59375 52.65625 34.296875 \r\nQ 57.90625 29 57.90625 20.125 \r\nQ 57.90625 9.515625 50.796875 4.046875 \r\nQ 43.703125 -1.421875 29.984375 -1.421875 \r\nQ 24.8125 -1.421875 18.96875 -0.25 \r\nQ 13.140625 0.921875 6.890625 3.21875 \r\nL 6.890625 13.375 \r\nQ 12.890625 10.015625 18.65625 8.296875 \r\nQ 24.421875 6.59375 29.984375 6.59375 \r\nQ 38.421875 6.59375 43.015625 9.90625 \r\nQ 47.609375 13.234375 47.609375 19.390625 \r\nQ 47.609375 24.75 44.3125 27.78125 \r\nQ 41.015625 30.8125 33.5 32.328125 \r\nL 27.484375 33.5 \r\nQ 16.453125 35.6875 11.515625 40.375 \r\nQ 6.59375 45.0625 6.59375 53.421875 \r\nQ 6.59375 63.09375 13.40625 68.65625 \r\nQ 20.21875 74.21875 32.171875 74.21875 \r\nQ 37.3125 74.21875 42.625 73.28125 \r\nQ 47.953125 72.359375 53.515625 70.515625 \r\nz\r\n\" id=\"DejaVuSans-83\"/>\r\n      <path d=\"M 56.203125 29.59375 \r\nL 56.203125 25.203125 \r\nL 14.890625 25.203125 \r\nQ 15.484375 15.921875 20.484375 11.0625 \r\nQ 25.484375 6.203125 34.421875 6.203125 \r\nQ 39.59375 6.203125 44.453125 7.46875 \r\nQ 49.3125 8.734375 54.109375 11.28125 \r\nL 54.109375 2.78125 \r\nQ 49.265625 0.734375 44.1875 -0.34375 \r\nQ 39.109375 -1.421875 33.890625 -1.421875 \r\nQ 20.796875 -1.421875 13.15625 6.1875 \r\nQ 5.515625 13.8125 5.515625 26.8125 \r\nQ 5.515625 40.234375 12.765625 48.109375 \r\nQ 20.015625 56 32.328125 56 \r\nQ 43.359375 56 49.78125 48.890625 \r\nQ 56.203125 41.796875 56.203125 29.59375 \r\nz\r\nM 47.21875 32.234375 \r\nQ 47.125 39.59375 43.09375 43.984375 \r\nQ 39.0625 48.390625 32.421875 48.390625 \r\nQ 24.90625 48.390625 20.390625 44.140625 \r\nQ 15.875 39.890625 15.1875 32.171875 \r\nz\r\n\" id=\"DejaVuSans-101\"/>\r\n      <path d=\"M 14.796875 27.296875 \r\nQ 14.796875 17.390625 18.875 11.75 \r\nQ 22.953125 6.109375 30.078125 6.109375 \r\nQ 37.203125 6.109375 41.296875 11.75 \r\nQ 45.40625 17.390625 45.40625 27.296875 \r\nQ 45.40625 37.203125 41.296875 42.84375 \r\nQ 37.203125 48.484375 30.078125 48.484375 \r\nQ 22.953125 48.484375 18.875 42.84375 \r\nQ 14.796875 37.203125 14.796875 27.296875 \r\nz\r\nM 45.40625 8.203125 \r\nQ 42.578125 3.328125 38.25 0.953125 \r\nQ 33.9375 -1.421875 27.875 -1.421875 \r\nQ 17.96875 -1.421875 11.734375 6.484375 \r\nQ 5.515625 14.40625 5.515625 27.296875 \r\nQ 5.515625 40.1875 11.734375 48.09375 \r\nQ 17.96875 56 27.875 56 \r\nQ 33.9375 56 38.25 53.625 \r\nQ 42.578125 51.265625 45.40625 46.390625 \r\nL 45.40625 54.6875 \r\nL 54.390625 54.6875 \r\nL 54.390625 -20.796875 \r\nL 45.40625 -20.796875 \r\nz\r\n\" id=\"DejaVuSans-113\"/>\r\n      <path d=\"M 8.5 21.578125 \r\nL 8.5 54.6875 \r\nL 17.484375 54.6875 \r\nL 17.484375 21.921875 \r\nQ 17.484375 14.15625 20.5 10.265625 \r\nQ 23.53125 6.390625 29.59375 6.390625 \r\nQ 36.859375 6.390625 41.078125 11.03125 \r\nQ 45.3125 15.671875 45.3125 23.6875 \r\nL 45.3125 54.6875 \r\nL 54.296875 54.6875 \r\nL 54.296875 0 \r\nL 45.3125 0 \r\nL 45.3125 8.40625 \r\nQ 42.046875 3.421875 37.71875 1 \r\nQ 33.40625 -1.421875 27.6875 -1.421875 \r\nQ 18.265625 -1.421875 13.375 4.4375 \r\nQ 8.5 10.296875 8.5 21.578125 \r\nz\r\nM 31.109375 56 \r\nz\r\n\" id=\"DejaVuSans-117\"/>\r\n      <path d=\"M 54.890625 33.015625 \r\nL 54.890625 0 \r\nL 45.90625 0 \r\nL 45.90625 32.71875 \r\nQ 45.90625 40.484375 42.875 44.328125 \r\nQ 39.84375 48.1875 33.796875 48.1875 \r\nQ 26.515625 48.1875 22.3125 43.546875 \r\nQ 18.109375 38.921875 18.109375 30.90625 \r\nL 18.109375 0 \r\nL 9.078125 0 \r\nL 9.078125 54.6875 \r\nL 18.109375 54.6875 \r\nL 18.109375 46.1875 \r\nQ 21.34375 51.125 25.703125 53.5625 \r\nQ 30.078125 56 35.796875 56 \r\nQ 45.21875 56 50.046875 50.171875 \r\nQ 54.890625 44.34375 54.890625 33.015625 \r\nz\r\n\" id=\"DejaVuSans-110\"/>\r\n      <path d=\"M 48.78125 52.59375 \r\nL 48.78125 44.1875 \r\nQ 44.96875 46.296875 41.140625 47.34375 \r\nQ 37.3125 48.390625 33.40625 48.390625 \r\nQ 24.65625 48.390625 19.8125 42.84375 \r\nQ 14.984375 37.3125 14.984375 27.296875 \r\nQ 14.984375 17.28125 19.8125 11.734375 \r\nQ 24.65625 6.203125 33.40625 6.203125 \r\nQ 37.3125 6.203125 41.140625 7.25 \r\nQ 44.96875 8.296875 48.78125 10.40625 \r\nL 48.78125 2.09375 \r\nQ 45.015625 0.34375 40.984375 -0.53125 \r\nQ 36.96875 -1.421875 32.421875 -1.421875 \r\nQ 20.0625 -1.421875 12.78125 6.34375 \r\nQ 5.515625 14.109375 5.515625 27.296875 \r\nQ 5.515625 40.671875 12.859375 48.328125 \r\nQ 20.21875 56 33.015625 56 \r\nQ 37.15625 56 41.109375 55.140625 \r\nQ 45.0625 54.296875 48.78125 52.59375 \r\nz\r\n\" id=\"DejaVuSans-99\"/>\r\n      <path id=\"DejaVuSans-32\"/>\r\n      <path d=\"M 9.421875 75.984375 \r\nL 18.40625 75.984375 \r\nL 18.40625 0 \r\nL 9.421875 0 \r\nz\r\n\" id=\"DejaVuSans-108\"/>\r\n      <path d=\"M 45.40625 27.984375 \r\nQ 45.40625 37.75 41.375 43.109375 \r\nQ 37.359375 48.484375 30.078125 48.484375 \r\nQ 22.859375 48.484375 18.828125 43.109375 \r\nQ 14.796875 37.75 14.796875 27.984375 \r\nQ 14.796875 18.265625 18.828125 12.890625 \r\nQ 22.859375 7.515625 30.078125 7.515625 \r\nQ 37.359375 7.515625 41.375 12.890625 \r\nQ 45.40625 18.265625 45.40625 27.984375 \r\nz\r\nM 54.390625 6.78125 \r\nQ 54.390625 -7.171875 48.1875 -13.984375 \r\nQ 42 -20.796875 29.203125 -20.796875 \r\nQ 24.46875 -20.796875 20.265625 -20.09375 \r\nQ 16.0625 -19.390625 12.109375 -17.921875 \r\nL 12.109375 -9.1875 \r\nQ 16.0625 -11.328125 19.921875 -12.34375 \r\nQ 23.78125 -13.375 27.78125 -13.375 \r\nQ 36.625 -13.375 41.015625 -8.765625 \r\nQ 45.40625 -4.15625 45.40625 5.171875 \r\nL 45.40625 9.625 \r\nQ 42.625 4.78125 38.28125 2.390625 \r\nQ 33.9375 0 27.875 0 \r\nQ 17.828125 0 11.671875 7.65625 \r\nQ 5.515625 15.328125 5.515625 27.984375 \r\nQ 5.515625 40.671875 11.671875 48.328125 \r\nQ 17.828125 56 27.875 56 \r\nQ 33.9375 56 38.28125 53.609375 \r\nQ 42.625 51.21875 45.40625 46.390625 \r\nL 45.40625 54.6875 \r\nL 54.390625 54.6875 \r\nz\r\n\" id=\"DejaVuSans-103\"/>\r\n      <path d=\"M 18.3125 70.21875 \r\nL 18.3125 54.6875 \r\nL 36.8125 54.6875 \r\nL 36.8125 47.703125 \r\nL 18.3125 47.703125 \r\nL 18.3125 18.015625 \r\nQ 18.3125 11.328125 20.140625 9.421875 \r\nQ 21.96875 7.515625 27.59375 7.515625 \r\nL 36.8125 7.515625 \r\nL 36.8125 0 \r\nL 27.59375 0 \r\nQ 17.1875 0 13.234375 3.875 \r\nQ 9.28125 7.765625 9.28125 18.015625 \r\nL 9.28125 47.703125 \r\nL 2.6875 47.703125 \r\nL 2.6875 54.6875 \r\nL 9.28125 54.6875 \r\nL 9.28125 70.21875 \r\nz\r\n\" id=\"DejaVuSans-116\"/>\r\n      <path d=\"M 54.890625 33.015625 \r\nL 54.890625 0 \r\nL 45.90625 0 \r\nL 45.90625 32.71875 \r\nQ 45.90625 40.484375 42.875 44.328125 \r\nQ 39.84375 48.1875 33.796875 48.1875 \r\nQ 26.515625 48.1875 22.3125 43.546875 \r\nQ 18.109375 38.921875 18.109375 30.90625 \r\nL 18.109375 0 \r\nL 9.078125 0 \r\nL 9.078125 75.984375 \r\nL 18.109375 75.984375 \r\nL 18.109375 46.1875 \r\nQ 21.34375 51.125 25.703125 53.5625 \r\nQ 30.078125 56 35.796875 56 \r\nQ 45.21875 56 50.046875 50.171875 \r\nQ 54.890625 44.34375 54.890625 33.015625 \r\nz\r\n\" id=\"DejaVuSans-104\"/>\r\n      <path d=\"M 45.40625 46.390625 \r\nL 45.40625 75.984375 \r\nL 54.390625 75.984375 \r\nL 54.390625 0 \r\nL 45.40625 0 \r\nL 45.40625 8.203125 \r\nQ 42.578125 3.328125 38.25 0.953125 \r\nQ 33.9375 -1.421875 27.875 -1.421875 \r\nQ 17.96875 -1.421875 11.734375 6.484375 \r\nQ 5.515625 14.40625 5.515625 27.296875 \r\nQ 5.515625 40.1875 11.734375 48.09375 \r\nQ 17.96875 56 27.875 56 \r\nQ 33.9375 56 38.25 53.625 \r\nQ 42.578125 51.265625 45.40625 46.390625 \r\nz\r\nM 14.796875 27.296875 \r\nQ 14.796875 17.390625 18.875 11.75 \r\nQ 22.953125 6.109375 30.078125 6.109375 \r\nQ 37.203125 6.109375 41.296875 11.75 \r\nQ 45.40625 17.390625 45.40625 27.296875 \r\nQ 45.40625 37.203125 41.296875 42.84375 \r\nQ 37.203125 48.484375 30.078125 48.484375 \r\nQ 22.953125 48.484375 18.875 42.84375 \r\nQ 14.796875 37.203125 14.796875 27.296875 \r\nz\r\n\" id=\"DejaVuSans-100\"/>\r\n      <path d=\"M 9.421875 54.6875 \r\nL 18.40625 54.6875 \r\nL 18.40625 0 \r\nL 9.421875 0 \r\nz\r\nM 9.421875 75.984375 \r\nL 18.40625 75.984375 \r\nL 18.40625 64.59375 \r\nL 9.421875 64.59375 \r\nz\r\n\" id=\"DejaVuSans-105\"/>\r\n      <path d=\"M 44.28125 53.078125 \r\nL 44.28125 44.578125 \r\nQ 40.484375 46.53125 36.375 47.5 \r\nQ 32.28125 48.484375 27.875 48.484375 \r\nQ 21.1875 48.484375 17.84375 46.4375 \r\nQ 14.5 44.390625 14.5 40.28125 \r\nQ 14.5 37.15625 16.890625 35.375 \r\nQ 19.28125 33.59375 26.515625 31.984375 \r\nL 29.59375 31.296875 \r\nQ 39.15625 29.25 43.1875 25.515625 \r\nQ 47.21875 21.78125 47.21875 15.09375 \r\nQ 47.21875 7.46875 41.1875 3.015625 \r\nQ 35.15625 -1.421875 24.609375 -1.421875 \r\nQ 20.21875 -1.421875 15.453125 -0.5625 \r\nQ 10.6875 0.296875 5.421875 2 \r\nL 5.421875 11.28125 \r\nQ 10.40625 8.6875 15.234375 7.390625 \r\nQ 20.0625 6.109375 24.8125 6.109375 \r\nQ 31.15625 6.109375 34.5625 8.28125 \r\nQ 37.984375 10.453125 37.984375 14.40625 \r\nQ 37.984375 18.0625 35.515625 20.015625 \r\nQ 33.0625 21.96875 24.703125 23.78125 \r\nL 21.578125 24.515625 \r\nQ 13.234375 26.265625 9.515625 29.90625 \r\nQ 5.8125 33.546875 5.8125 39.890625 \r\nQ 5.8125 47.609375 11.28125 51.796875 \r\nQ 16.75 56 26.8125 56 \r\nQ 31.78125 56 36.171875 55.265625 \r\nQ 40.578125 54.546875 44.28125 53.078125 \r\nz\r\n\" id=\"DejaVuSans-115\"/>\r\n      <path d=\"M 41.109375 46.296875 \r\nQ 39.59375 47.171875 37.8125 47.578125 \r\nQ 36.03125 48 33.890625 48 \r\nQ 26.265625 48 22.1875 43.046875 \r\nQ 18.109375 38.09375 18.109375 28.8125 \r\nL 18.109375 0 \r\nL 9.078125 0 \r\nL 9.078125 54.6875 \r\nL 18.109375 54.6875 \r\nL 18.109375 46.1875 \r\nQ 20.953125 51.171875 25.484375 53.578125 \r\nQ 30.03125 56 36.53125 56 \r\nQ 37.453125 56 38.578125 55.875 \r\nQ 39.703125 55.765625 41.0625 55.515625 \r\nz\r\n\" id=\"DejaVuSans-114\"/>\r\n      <path d=\"M 48.6875 27.296875 \r\nQ 48.6875 37.203125 44.609375 42.84375 \r\nQ 40.53125 48.484375 33.40625 48.484375 \r\nQ 26.265625 48.484375 22.1875 42.84375 \r\nQ 18.109375 37.203125 18.109375 27.296875 \r\nQ 18.109375 17.390625 22.1875 11.75 \r\nQ 26.265625 6.109375 33.40625 6.109375 \r\nQ 40.53125 6.109375 44.609375 11.75 \r\nQ 48.6875 17.390625 48.6875 27.296875 \r\nz\r\nM 18.109375 46.390625 \r\nQ 20.953125 51.265625 25.265625 53.625 \r\nQ 29.59375 56 35.59375 56 \r\nQ 45.5625 56 51.78125 48.09375 \r\nQ 58.015625 40.1875 58.015625 27.296875 \r\nQ 58.015625 14.40625 51.78125 6.484375 \r\nQ 45.5625 -1.421875 35.59375 -1.421875 \r\nQ 29.59375 -1.421875 25.265625 0.953125 \r\nQ 20.953125 3.328125 18.109375 8.203125 \r\nL 18.109375 0 \r\nL 9.078125 0 \r\nL 9.078125 75.984375 \r\nL 18.109375 75.984375 \r\nz\r\n\" id=\"DejaVuSans-98\"/>\r\n      <path d=\"M 30.609375 48.390625 \r\nQ 23.390625 48.390625 19.1875 42.75 \r\nQ 14.984375 37.109375 14.984375 27.296875 \r\nQ 14.984375 17.484375 19.15625 11.84375 \r\nQ 23.34375 6.203125 30.609375 6.203125 \r\nQ 37.796875 6.203125 41.984375 11.859375 \r\nQ 46.1875 17.53125 46.1875 27.296875 \r\nQ 46.1875 37.015625 41.984375 42.703125 \r\nQ 37.796875 48.390625 30.609375 48.390625 \r\nz\r\nM 30.609375 56 \r\nQ 42.328125 56 49.015625 48.375 \r\nQ 55.71875 40.765625 55.71875 27.296875 \r\nQ 55.71875 13.875 49.015625 6.21875 \r\nQ 42.328125 -1.421875 30.609375 -1.421875 \r\nQ 18.84375 -1.421875 12.171875 6.21875 \r\nQ 5.515625 13.875 5.515625 27.296875 \r\nQ 5.515625 40.765625 12.171875 48.375 \r\nQ 18.84375 56 30.609375 56 \r\nz\r\n\" id=\"DejaVuSans-111\"/>\r\n     </defs>\r\n     <use xlink:href=\"#DejaVuSans-83\"/>\r\n     <use x=\"63.476562\" xlink:href=\"#DejaVuSans-101\"/>\r\n     <use x=\"125\" xlink:href=\"#DejaVuSans-113\"/>\r\n     <use x=\"188.476562\" xlink:href=\"#DejaVuSans-117\"/>\r\n     <use x=\"251.855469\" xlink:href=\"#DejaVuSans-101\"/>\r\n     <use x=\"313.378906\" xlink:href=\"#DejaVuSans-110\"/>\r\n     <use x=\"376.757812\" xlink:href=\"#DejaVuSans-99\"/>\r\n     <use x=\"431.738281\" xlink:href=\"#DejaVuSans-101\"/>\r\n     <use x=\"493.261719\" xlink:href=\"#DejaVuSans-32\"/>\r\n     <use x=\"525.048828\" xlink:href=\"#DejaVuSans-108\"/>\r\n     <use x=\"552.832031\" xlink:href=\"#DejaVuSans-101\"/>\r\n     <use x=\"614.355469\" xlink:href=\"#DejaVuSans-110\"/>\r\n     <use x=\"677.734375\" xlink:href=\"#DejaVuSans-103\"/>\r\n     <use x=\"741.210938\" xlink:href=\"#DejaVuSans-116\"/>\r\n     <use x=\"780.419922\" xlink:href=\"#DejaVuSans-104\"/>\r\n     <use x=\"843.798828\" xlink:href=\"#DejaVuSans-32\"/>\r\n     <use x=\"875.585938\" xlink:href=\"#DejaVuSans-100\"/>\r\n     <use x=\"939.0625\" xlink:href=\"#DejaVuSans-105\"/>\r\n     <use x=\"966.845703\" xlink:href=\"#DejaVuSans-115\"/>\r\n     <use x=\"1018.945312\" xlink:href=\"#DejaVuSans-116\"/>\r\n     <use x=\"1058.154297\" xlink:href=\"#DejaVuSans-114\"/>\r\n     <use x=\"1099.267578\" xlink:href=\"#DejaVuSans-105\"/>\r\n     <use x=\"1127.050781\" xlink:href=\"#DejaVuSans-98\"/>\r\n     <use x=\"1190.527344\" xlink:href=\"#DejaVuSans-117\"/>\r\n     <use x=\"1253.90625\" xlink:href=\"#DejaVuSans-116\"/>\r\n     <use x=\"1293.115234\" xlink:href=\"#DejaVuSans-105\"/>\r\n     <use x=\"1320.898438\" xlink:href=\"#DejaVuSans-111\"/>\r\n     <use x=\"1382.080078\" xlink:href=\"#DejaVuSans-110\"/>\r\n    </g>\r\n   </g>\r\n  </g>\r\n </g>\r\n <defs>\r\n  <clipPath id=\"pfca918dfb7\">\r\n   <rect height=\"217.44\" width=\"334.8\" x=\"39.65\" y=\"22.318125\"/>\r\n  </clipPath>\r\n </defs>\r\n</svg>\r\n",
      "image/png": "[encoded data removed]"
     },
     "metadata": {
      "needs_background": "light"
     }
    }
   ],
   "source": [
    "MAX_LENGTH = max(map(len, names))\n",
    "print(\"max length =\", MAX_LENGTH)\n",
    "\n",
    "plt.title('Sequence length distribution')\n",
    "plt.hist(list(map(len, names)),bins=25);"
   ]
  },
  {
   "cell_type": "markdown",
   "metadata": {},
   "source": [
    "# Text processing\n",
    "\n",
    "First we need next to collect a \"vocabulary\" of all unique tokens i.e. unique characters. We can then encode inputs as a sequence of character ids."
   ]
  },
  {
   "cell_type": "code",
   "execution_count": 6,
   "metadata": {},
   "outputs": [
    {
     "output_type": "stream",
     "name": "stdout",
     "text": [
      "num_tokens =  55\n"
     ]
    }
   ],
   "source": [
    "tokens = list(set(\"\".join(names)))\n",
    "\n",
    "num_tokens = len(tokens)\n",
    "print ('num_tokens = ', num_tokens)\n",
    "\n",
    "assert 50 < num_tokens < 60, \"Names should contain within 50 and 60 unique tokens depending on encoding\""
   ]
  },
  {
   "cell_type": "markdown",
   "metadata": {},
   "source": [
    "### Convert characters to integers\n",
    "\n",
    "Torch is built for crunching numbers, not strings. \n",
    "To train our neural network, we'll need to replace characters with their indices in tokens list.\n",
    "\n",
    "Let's compose a dictionary that does this mapping."
   ]
  },
  {
   "cell_type": "code",
   "execution_count": 7,
   "metadata": {},
   "outputs": [],
   "source": [
    "token_to_id = {tokens[i]:i for i in range(len(tokens))}"
   ]
  },
  {
   "cell_type": "code",
   "execution_count": 8,
   "metadata": {},
   "outputs": [
    {
     "output_type": "stream",
     "name": "stdout",
     "text": [
      "Seems alright!\n"
     ]
    }
   ],
   "source": [
    "assert len(tokens) == len(token_to_id), \"dictionaries must have same size\"\n",
    "\n",
    "for i in range(num_tokens):\n",
    "    assert token_to_id[tokens[i]] == i, \"token identifier must be it's position in tokens list\"\n",
    "\n",
    "print(\"Seems alright!\")"
   ]
  },
  {
   "cell_type": "code",
   "execution_count": 9,
   "metadata": {},
   "outputs": [],
   "source": [
    "def to_matrix(names, max_len=None, pad=token_to_id[' '], dtype='int32', batch_first = True):\n",
    "    \"\"\"Casts a list of names into rnn-digestable matrix\"\"\"\n",
    "    \n",
    "    max_len = max_len or max(map(len, names))\n",
    "    names_ix = np.zeros([len(names), max_len], dtype) + pad\n",
    "\n",
    "    for i in range(len(names)):\n",
    "        line_ix = [token_to_id[c] for c in names[i]]\n",
    "        names_ix[i, :len(line_ix)] = line_ix\n",
    "        \n",
    "    if not batch_first: # convert [batch, time] into [time, batch]\n",
    "        names_ix = np.transpose(names_ix)\n",
    "\n",
    "    return names_ix"
   ]
  },
  {
   "cell_type": "code",
   "execution_count": 10,
   "metadata": {},
   "outputs": [
    {
     "output_type": "execute_result",
     "data": {
      "text/plain": [
       "[' Abagael', ' Abagail']"
      ]
     },
     "metadata": {},
     "execution_count": 10
    }
   ],
   "source": [
    "names[:2]"
   ]
  },
  {
   "cell_type": "code",
   "execution_count": 11,
   "metadata": {},
   "outputs": [
    {
     "output_type": "stream",
     "name": "stdout",
     "text": [
      " Abagael\n Glory\n Prissie\n Giovanne\n[[51 11 31 18 35 18 22 49 51]\n [51 14 49 54 37  9 51 51 51]\n [51  1 37 23  6  6 23 22 51]\n [51 14 23 54 50 18 17 17 22]]\n"
     ]
    }
   ],
   "source": [
    "#Example: cast 4 random names to matrices, pad with zeros\n",
    "print('\\n'.join(names[::2000]))\n",
    "print(to_matrix(names[::2000]))"
   ]
  },
  {
   "cell_type": "markdown",
   "metadata": {},
   "source": [
    "# Recurrent neural network\n",
    "\n",
    "We can rewrite recurrent neural network as a consecutive application of dense layer to input $x_t$ and previous rnn state $h_t$. This is exactly what we're gonna do now.\n",
    "<img src=\"./rnn.png\" width=480>\n",
    "\n",
    "Since we're training a language model, there should also be:\n",
    "* An embedding layer that converts character id x_t to a vector.\n",
    "* An output layer that predicts probabilities of next phoneme"
   ]
  },
  {
   "cell_type": "code",
   "execution_count": 12,
   "metadata": {},
   "outputs": [],
   "source": [
    "import torch, torch.nn as nn\n",
    "import torch.nn.functional as F"
   ]
  },
  {
   "cell_type": "code",
   "execution_count": 13,
   "metadata": {},
   "outputs": [],
   "source": [
    "class CharRNNCell(nn.Module):\n",
    "    \"\"\"\n",
    "    Implement the scheme above as torch module\n",
    "    \"\"\"\n",
    "    def __init__(self, num_tokens=len(tokens), embedding_size=16, rnn_num_units=64):\n",
    "        super(self.__class__,self).__init__()\n",
    "        self.num_units = rnn_num_units\n",
    "        \n",
    "        self.embedding = nn.Embedding(num_tokens, embedding_size)\n",
    "        self.rnn_update = nn.Linear(embedding_size + rnn_num_units, rnn_num_units)\n",
    "        self.rnn_to_logits = nn.Linear(rnn_num_units, num_tokens)\n",
    "        \n",
    "    def forward(self, x, h_prev):\n",
    "        \"\"\"\n",
    "        This method computes h_next(x, h_prev) and log P(x_next | h_next)\n",
    "        We'll call it repeatedly to produce the whole sequence.\n",
    "        \n",
    "        :param x: batch of character ids, containing vector of int64\n",
    "        :param h_prev: previous rnn hidden states, containing matrix [batch, rnn_num_units] of float32\n",
    "        \"\"\"\n",
    "        # get vector embedding of x\n",
    "        x_emb = self.embedding(x)\n",
    "        \n",
    "        # compute next hidden state using self.rnn_update\n",
    "        # hint: use torch.cat(..., dim=...) for concatenation\n",
    "        x_and_h = torch.cat([x_emb, h_prev], dim=1)\n",
    "        h_next = self.rnn_update(x_and_h)\n",
    "        \n",
    "        h_next = torch.tanh(h_next)\n",
    "        \n",
    "        assert h_next.size() == h_prev.size()\n",
    "        \n",
    "        #compute logits for next character probs\n",
    "        logits = F.log_softmax(self.rnn_to_logits(h_next), -1)\n",
    "        \n",
    "        return h_next, logits\n",
    "    \n",
    "    def initial_state(self, batch_size):\n",
    "        \"\"\" return rnn state before it processes first input (aka h0) \"\"\"\n",
    "        return torch.zeros(batch_size, self.num_units, requires_grad=True)"
   ]
  },
  {
   "cell_type": "code",
   "execution_count": 14,
   "metadata": {},
   "outputs": [],
   "source": [
    "char_rnn = CharRNNCell()\n",
    "criterion = nn.NLLLoss()"
   ]
  },
  {
   "cell_type": "markdown",
   "metadata": {},
   "source": [
    "### RNN loop\n",
    "\n",
    "Once we've defined a single RNN step, we can apply it in a loop to get predictions on each step."
   ]
  },
  {
   "cell_type": "code",
   "execution_count": 15,
   "metadata": {},
   "outputs": [],
   "source": [
    "def rnn_loop(char_rnn, batch_ix):\n",
    "    \"\"\"\n",
    "    Computes log P(next_character) for all time-steps in names_ix\n",
    "    :param names_ix: an int32 matrix of shape [batch, time], output of to_matrix(names)\n",
    "    \"\"\"\n",
    "    batch_size, max_length = batch_ix.size()\n",
    "    hid_state = char_rnn.initial_state(batch_size)\n",
    "    logprobs = []\n",
    "\n",
    "    for x_t in batch_ix.transpose(0,1):\n",
    "        hid_state, logits = char_rnn(x_t, hid_state)  # <-- here we call your one-step code\n",
    "        logprobs.append(F.log_softmax(logits, -1))\n",
    "        \n",
    "    return torch.stack(logprobs, dim=1)"
   ]
  },
  {
   "cell_type": "code",
   "execution_count": 16,
   "metadata": {},
   "outputs": [],
   "source": [
    "batch_ix = to_matrix(names[:5])\n",
    "batch_ix = torch.tensor(batch_ix, dtype=torch.int64)\n",
    "\n",
    "logp_seq = rnn_loop(char_rnn, batch_ix)\n",
    "\n",
    "assert torch.max(logp_seq).data.numpy() <= 0\n",
    "assert tuple(logp_seq.size()) ==  batch_ix.shape + (num_tokens,)"
   ]
  },
  {
   "cell_type": "markdown",
   "metadata": {},
   "source": [
    "### Likelihood and gradients\n",
    "\n",
    "We can now train our neural network to minimize crossentropy (maximize log-likelihood) with the actual next tokens.\n",
    "\n",
    "To do so in a vectorized manner, we take `batch_ix[:, 1:]` - a matrix of token ids shifted i step to the left so i-th element is acutally the \"next token\" for i-th prediction"
   ]
  },
  {
   "cell_type": "code",
   "execution_count": 17,
   "metadata": {},
   "outputs": [],
   "source": [
    "predictions_logp = logp_seq[:, :-1]\n",
    "actual_next_tokens = batch_ix[:, 1:]\n",
    "\n",
    "# .contiguous() method checks that tensor is stored in the memory correctly to \n",
    "# get its view of desired shape.\n",
    "\n",
    "loss = criterion(predictions_logp.contiguous().view(-1, num_tokens), \n",
    "                  actual_next_tokens.contiguous().view(-1))"
   ]
  },
  {
   "cell_type": "code",
   "execution_count": 18,
   "metadata": {},
   "outputs": [],
   "source": [
    "loss.backward()"
   ]
  },
  {
   "cell_type": "code",
   "execution_count": 19,
   "metadata": {},
   "outputs": [],
   "source": [
    "for w in char_rnn.parameters():\n",
    "    assert w.grad is not None and torch.max(torch.abs(w.grad)).data.numpy() != 0, \\\n",
    "        \"Loss is not differentiable w.r.t. a weight with shape %s. Check forward method.\" % (w.size(),)"
   ]
  },
  {
   "cell_type": "markdown",
   "metadata": {},
   "source": [
    "### The training loop\n",
    "\n",
    "We train our char-rnn exactly the same way we train any deep learning model: by minibatch sgd.\n",
    "\n",
    "The only difference is that this time we sample strings, not images or sound."
   ]
  },
  {
   "cell_type": "code",
   "execution_count": 20,
   "metadata": {},
   "outputs": [],
   "source": [
    "from IPython.display import clear_output\n",
    "from random import sample\n",
    "\n",
    "char_rnn = CharRNNCell()\n",
    "criterion = nn.NLLLoss()\n",
    "opt = torch.optim.Adam(char_rnn.parameters())\n",
    "history = []"
   ]
  },
  {
   "cell_type": "code",
   "execution_count": 21,
   "metadata": {},
   "outputs": [
    {
     "output_type": "display_data",
     "data": {
      "text/plain": "<Figure size 432x288 with 1 Axes>",
      "image/svg+xml": "<?xml version=\"1.0\" encoding=\"utf-8\" standalone=\"no\"?>\r\n<!DOCTYPE svg PUBLIC \"-//W3C//DTD SVG 1.1//EN\"\r\n  \"http://www.w3.org/Graphics/SVG/1.1/DTD/svg11.dtd\">\r\n<!-- Created with matplotlib (https://matplotlib.org/) -->\r\n<svg height=\"248.518125pt\" version=\"1.1\" viewBox=\"0 0 372.103125 248.518125\" width=\"372.103125pt\" xmlns=\"http://www.w3.org/2000/svg\" xmlns:xlink=\"http://www.w3.org/1999/xlink\">\r\n <metadata>\r\n  <rdf:RDF xmlns:cc=\"http://creativecommons.org/ns#\" xmlns:dc=\"http://purl.org/dc/elements/1.1/\" xmlns:rdf=\"http://www.w3.org/1999/02/22-rdf-syntax-ns#\">\r\n   <cc:Work>\r\n    <dc:type rdf:resource=\"http://purl.org/dc/dcmitype/StillImage\"/>\r\n    <dc:date>2020-12-08T15:34:24.527902</dc:date>\r\n    <dc:format>image/svg+xml</dc:format>\r\n    <dc:creator>\r\n     <cc:Agent>\r\n      <dc:title>Matplotlib v3.3.2, https://matplotlib.org/</dc:title>\r\n     </cc:Agent>\r\n    </dc:creator>\r\n   </cc:Work>\r\n  </rdf:RDF>\r\n </metadata>\r\n <defs>\r\n  <style type=\"text/css\">*{stroke-linecap:butt;stroke-linejoin:round;}</style>\r\n </defs>\r\n <g id=\"figure_1\">\r\n  <g id=\"patch_1\">\r\n   <path d=\"M 0 248.518125 \r\nL 372.103125 248.518125 \r\nL 372.103125 0 \r\nL 0 0 \r\nz\r\n\" style=\"fill:none;\"/>\r\n  </g>\r\n  <g id=\"axes_1\">\r\n   <g id=\"patch_2\">\r\n    <path d=\"M 30.103125 224.64 \r\nL 364.903125 224.64 \r\nL 364.903125 7.2 \r\nL 30.103125 7.2 \r\nz\r\n\" style=\"fill:#ffffff;\"/>\r\n   </g>\r\n   <g id=\"matplotlib.axis_1\">\r\n    <g id=\"xtick_1\">\r\n     <g id=\"line2d_1\">\r\n      <defs>\r\n       <path d=\"M 0 0 \r\nL 0 3.5 \r\n\" id=\"m9c00b2bacf\" style=\"stroke:#000000;stroke-width:0.8;\"/>\r\n      </defs>\r\n      <g>\r\n       <use style=\"stroke:#000000;stroke-width:0.8;\" x=\"45.321307\" xlink:href=\"#m9c00b2bacf\" y=\"224.64\"/>\r\n      </g>\r\n     </g>\r\n     <g id=\"text_1\">\r\n      <!-- 0 -->\r\n      <g transform=\"translate(42.140057 239.238437)scale(0.1 -0.1)\">\r\n       <defs>\r\n        <path d=\"M 31.78125 66.40625 \r\nQ 24.171875 66.40625 20.328125 58.90625 \r\nQ 16.5 51.421875 16.5 36.375 \r\nQ 16.5 21.390625 20.328125 13.890625 \r\nQ 24.171875 6.390625 31.78125 6.390625 \r\nQ 39.453125 6.390625 43.28125 13.890625 \r\nQ 47.125 21.390625 47.125 36.375 \r\nQ 47.125 51.421875 43.28125 58.90625 \r\nQ 39.453125 66.40625 31.78125 66.40625 \r\nz\r\nM 31.78125 74.21875 \r\nQ 44.046875 74.21875 50.515625 64.515625 \r\nQ 56.984375 54.828125 56.984375 36.375 \r\nQ 56.984375 17.96875 50.515625 8.265625 \r\nQ 44.046875 -1.421875 31.78125 -1.421875 \r\nQ 19.53125 -1.421875 13.0625 8.265625 \r\nQ 6.59375 17.96875 6.59375 36.375 \r\nQ 6.59375 54.828125 13.0625 64.515625 \r\nQ 19.53125 74.21875 31.78125 74.21875 \r\nz\r\n\" id=\"DejaVuSans-48\"/>\r\n       </defs>\r\n       <use xlink:href=\"#DejaVuSans-48\"/>\r\n      </g>\r\n     </g>\r\n    </g>\r\n    <g id=\"xtick_2\">\r\n     <g id=\"line2d_2\">\r\n      <g>\r\n       <use style=\"stroke:#000000;stroke-width:0.8;\" x=\"106.254968\" xlink:href=\"#m9c00b2bacf\" y=\"224.64\"/>\r\n      </g>\r\n     </g>\r\n     <g id=\"text_2\">\r\n      <!-- 200 -->\r\n      <g transform=\"translate(96.711218 239.238437)scale(0.1 -0.1)\">\r\n       <defs>\r\n        <path d=\"M 19.1875 8.296875 \r\nL 53.609375 8.296875 \r\nL 53.609375 0 \r\nL 7.328125 0 \r\nL 7.328125 8.296875 \r\nQ 12.9375 14.109375 22.625 23.890625 \r\nQ 32.328125 33.6875 34.8125 36.53125 \r\nQ 39.546875 41.84375 41.421875 45.53125 \r\nQ 43.3125 49.21875 43.3125 52.78125 \r\nQ 43.3125 58.59375 39.234375 62.25 \r\nQ 35.15625 65.921875 28.609375 65.921875 \r\nQ 23.96875 65.921875 18.8125 64.3125 \r\nQ 13.671875 62.703125 7.8125 59.421875 \r\nL 7.8125 69.390625 \r\nQ 13.765625 71.78125 18.9375 73 \r\nQ 24.125 74.21875 28.421875 74.21875 \r\nQ 39.75 74.21875 46.484375 68.546875 \r\nQ 53.21875 62.890625 53.21875 53.421875 \r\nQ 53.21875 48.921875 51.53125 44.890625 \r\nQ 49.859375 40.875 45.40625 35.40625 \r\nQ 44.1875 33.984375 37.640625 27.21875 \r\nQ 31.109375 20.453125 19.1875 8.296875 \r\nz\r\n\" id=\"DejaVuSans-50\"/>\r\n       </defs>\r\n       <use xlink:href=\"#DejaVuSans-50\"/>\r\n       <use x=\"63.623047\" xlink:href=\"#DejaVuSans-48\"/>\r\n       <use x=\"127.246094\" xlink:href=\"#DejaVuSans-48\"/>\r\n      </g>\r\n     </g>\r\n    </g>\r\n    <g id=\"xtick_3\">\r\n     <g id=\"line2d_3\">\r\n      <g>\r\n       <use style=\"stroke:#000000;stroke-width:0.8;\" x=\"167.188629\" xlink:href=\"#m9c00b2bacf\" y=\"224.64\"/>\r\n      </g>\r\n     </g>\r\n     <g id=\"text_3\">\r\n      <!-- 400 -->\r\n      <g transform=\"translate(157.644879 239.238437)scale(0.1 -0.1)\">\r\n       <defs>\r\n        <path d=\"M 37.796875 64.3125 \r\nL 12.890625 25.390625 \r\nL 37.796875 25.390625 \r\nz\r\nM 35.203125 72.90625 \r\nL 47.609375 72.90625 \r\nL 47.609375 25.390625 \r\nL 58.015625 25.390625 \r\nL 58.015625 17.1875 \r\nL 47.609375 17.1875 \r\nL 47.609375 0 \r\nL 37.796875 0 \r\nL 37.796875 17.1875 \r\nL 4.890625 17.1875 \r\nL 4.890625 26.703125 \r\nz\r\n\" id=\"DejaVuSans-52\"/>\r\n       </defs>\r\n       <use xlink:href=\"#DejaVuSans-52\"/>\r\n       <use x=\"63.623047\" xlink:href=\"#DejaVuSans-48\"/>\r\n       <use x=\"127.246094\" xlink:href=\"#DejaVuSans-48\"/>\r\n      </g>\r\n     </g>\r\n    </g>\r\n    <g id=\"xtick_4\">\r\n     <g id=\"line2d_4\">\r\n      <g>\r\n       <use style=\"stroke:#000000;stroke-width:0.8;\" x=\"228.12229\" xlink:href=\"#m9c00b2bacf\" y=\"224.64\"/>\r\n      </g>\r\n     </g>\r\n     <g id=\"text_4\">\r\n      <!-- 600 -->\r\n      <g transform=\"translate(218.57854 239.238437)scale(0.1 -0.1)\">\r\n       <defs>\r\n        <path d=\"M 33.015625 40.375 \r\nQ 26.375 40.375 22.484375 35.828125 \r\nQ 18.609375 31.296875 18.609375 23.390625 \r\nQ 18.609375 15.53125 22.484375 10.953125 \r\nQ 26.375 6.390625 33.015625 6.390625 \r\nQ 39.65625 6.390625 43.53125 10.953125 \r\nQ 47.40625 15.53125 47.40625 23.390625 \r\nQ 47.40625 31.296875 43.53125 35.828125 \r\nQ 39.65625 40.375 33.015625 40.375 \r\nz\r\nM 52.59375 71.296875 \r\nL 52.59375 62.3125 \r\nQ 48.875 64.0625 45.09375 64.984375 \r\nQ 41.3125 65.921875 37.59375 65.921875 \r\nQ 27.828125 65.921875 22.671875 59.328125 \r\nQ 17.53125 52.734375 16.796875 39.40625 \r\nQ 19.671875 43.65625 24.015625 45.921875 \r\nQ 28.375 48.1875 33.59375 48.1875 \r\nQ 44.578125 48.1875 50.953125 41.515625 \r\nQ 57.328125 34.859375 57.328125 23.390625 \r\nQ 57.328125 12.15625 50.6875 5.359375 \r\nQ 44.046875 -1.421875 33.015625 -1.421875 \r\nQ 20.359375 -1.421875 13.671875 8.265625 \r\nQ 6.984375 17.96875 6.984375 36.375 \r\nQ 6.984375 53.65625 15.1875 63.9375 \r\nQ 23.390625 74.21875 37.203125 74.21875 \r\nQ 40.921875 74.21875 44.703125 73.484375 \r\nQ 48.484375 72.75 52.59375 71.296875 \r\nz\r\n\" id=\"DejaVuSans-54\"/>\r\n       </defs>\r\n       <use xlink:href=\"#DejaVuSans-54\"/>\r\n       <use x=\"63.623047\" xlink:href=\"#DejaVuSans-48\"/>\r\n       <use x=\"127.246094\" xlink:href=\"#DejaVuSans-48\"/>\r\n      </g>\r\n     </g>\r\n    </g>\r\n    <g id=\"xtick_5\">\r\n     <g id=\"line2d_5\">\r\n      <g>\r\n       <use style=\"stroke:#000000;stroke-width:0.8;\" x=\"289.055951\" xlink:href=\"#m9c00b2bacf\" y=\"224.64\"/>\r\n      </g>\r\n     </g>\r\n     <g id=\"text_5\">\r\n      <!-- 800 -->\r\n      <g transform=\"translate(279.512201 239.238437)scale(0.1 -0.1)\">\r\n       <defs>\r\n        <path d=\"M 31.78125 34.625 \r\nQ 24.75 34.625 20.71875 30.859375 \r\nQ 16.703125 27.09375 16.703125 20.515625 \r\nQ 16.703125 13.921875 20.71875 10.15625 \r\nQ 24.75 6.390625 31.78125 6.390625 \r\nQ 38.8125 6.390625 42.859375 10.171875 \r\nQ 46.921875 13.96875 46.921875 20.515625 \r\nQ 46.921875 27.09375 42.890625 30.859375 \r\nQ 38.875 34.625 31.78125 34.625 \r\nz\r\nM 21.921875 38.8125 \r\nQ 15.578125 40.375 12.03125 44.71875 \r\nQ 8.5 49.078125 8.5 55.328125 \r\nQ 8.5 64.0625 14.71875 69.140625 \r\nQ 20.953125 74.21875 31.78125 74.21875 \r\nQ 42.671875 74.21875 48.875 69.140625 \r\nQ 55.078125 64.0625 55.078125 55.328125 \r\nQ 55.078125 49.078125 51.53125 44.71875 \r\nQ 48 40.375 41.703125 38.8125 \r\nQ 48.828125 37.15625 52.796875 32.3125 \r\nQ 56.78125 27.484375 56.78125 20.515625 \r\nQ 56.78125 9.90625 50.3125 4.234375 \r\nQ 43.84375 -1.421875 31.78125 -1.421875 \r\nQ 19.734375 -1.421875 13.25 4.234375 \r\nQ 6.78125 9.90625 6.78125 20.515625 \r\nQ 6.78125 27.484375 10.78125 32.3125 \r\nQ 14.796875 37.15625 21.921875 38.8125 \r\nz\r\nM 18.3125 54.390625 \r\nQ 18.3125 48.734375 21.84375 45.5625 \r\nQ 25.390625 42.390625 31.78125 42.390625 \r\nQ 38.140625 42.390625 41.71875 45.5625 \r\nQ 45.3125 48.734375 45.3125 54.390625 \r\nQ 45.3125 60.0625 41.71875 63.234375 \r\nQ 38.140625 66.40625 31.78125 66.40625 \r\nQ 25.390625 66.40625 21.84375 63.234375 \r\nQ 18.3125 60.0625 18.3125 54.390625 \r\nz\r\n\" id=\"DejaVuSans-56\"/>\r\n       </defs>\r\n       <use xlink:href=\"#DejaVuSans-56\"/>\r\n       <use x=\"63.623047\" xlink:href=\"#DejaVuSans-48\"/>\r\n       <use x=\"127.246094\" xlink:href=\"#DejaVuSans-48\"/>\r\n      </g>\r\n     </g>\r\n    </g>\r\n    <g id=\"xtick_6\">\r\n     <g id=\"line2d_6\">\r\n      <g>\r\n       <use style=\"stroke:#000000;stroke-width:0.8;\" x=\"349.989611\" xlink:href=\"#m9c00b2bacf\" y=\"224.64\"/>\r\n      </g>\r\n     </g>\r\n     <g id=\"text_6\">\r\n      <!-- 1000 -->\r\n      <g transform=\"translate(337.264611 239.238437)scale(0.1 -0.1)\">\r\n       <defs>\r\n        <path d=\"M 12.40625 8.296875 \r\nL 28.515625 8.296875 \r\nL 28.515625 63.921875 \r\nL 10.984375 60.40625 \r\nL 10.984375 69.390625 \r\nL 28.421875 72.90625 \r\nL 38.28125 72.90625 \r\nL 38.28125 8.296875 \r\nL 54.390625 8.296875 \r\nL 54.390625 0 \r\nL 12.40625 0 \r\nz\r\n\" id=\"DejaVuSans-49\"/>\r\n       </defs>\r\n       <use xlink:href=\"#DejaVuSans-49\"/>\r\n       <use x=\"63.623047\" xlink:href=\"#DejaVuSans-48\"/>\r\n       <use x=\"127.246094\" xlink:href=\"#DejaVuSans-48\"/>\r\n       <use x=\"190.869141\" xlink:href=\"#DejaVuSans-48\"/>\r\n      </g>\r\n     </g>\r\n    </g>\r\n   </g>\r\n   <g id=\"matplotlib.axis_2\">\r\n    <g id=\"ytick_1\">\r\n     <g id=\"line2d_7\">\r\n      <defs>\r\n       <path d=\"M 0 0 \r\nL -3.5 0 \r\n\" id=\"m1eadc1ffe1\" style=\"stroke:#000000;stroke-width:0.8;\"/>\r\n      </defs>\r\n      <g>\r\n       <use style=\"stroke:#000000;stroke-width:0.8;\" x=\"30.103125\" xlink:href=\"#m1eadc1ffe1\" y=\"209.241698\"/>\r\n      </g>\r\n     </g>\r\n     <g id=\"text_7\">\r\n      <!-- 1.0 -->\r\n      <g transform=\"translate(7.2 213.040916)scale(0.1 -0.1)\">\r\n       <defs>\r\n        <path d=\"M 10.6875 12.40625 \r\nL 21 12.40625 \r\nL 21 0 \r\nL 10.6875 0 \r\nz\r\n\" id=\"DejaVuSans-46\"/>\r\n       </defs>\r\n       <use xlink:href=\"#DejaVuSans-49\"/>\r\n       <use x=\"63.623047\" xlink:href=\"#DejaVuSans-46\"/>\r\n       <use x=\"95.410156\" xlink:href=\"#DejaVuSans-48\"/>\r\n      </g>\r\n     </g>\r\n    </g>\r\n    <g id=\"ytick_2\">\r\n     <g id=\"line2d_8\">\r\n      <g>\r\n       <use style=\"stroke:#000000;stroke-width:0.8;\" x=\"30.103125\" xlink:href=\"#m1eadc1ffe1\" y=\"176.430527\"/>\r\n      </g>\r\n     </g>\r\n     <g id=\"text_8\">\r\n      <!-- 1.5 -->\r\n      <g transform=\"translate(7.2 180.229746)scale(0.1 -0.1)\">\r\n       <defs>\r\n        <path d=\"M 10.796875 72.90625 \r\nL 49.515625 72.90625 \r\nL 49.515625 64.59375 \r\nL 19.828125 64.59375 \r\nL 19.828125 46.734375 \r\nQ 21.96875 47.46875 24.109375 47.828125 \r\nQ 26.265625 48.1875 28.421875 48.1875 \r\nQ 40.625 48.1875 47.75 41.5 \r\nQ 54.890625 34.8125 54.890625 23.390625 \r\nQ 54.890625 11.625 47.5625 5.09375 \r\nQ 40.234375 -1.421875 26.90625 -1.421875 \r\nQ 22.3125 -1.421875 17.546875 -0.640625 \r\nQ 12.796875 0.140625 7.71875 1.703125 \r\nL 7.71875 11.625 \r\nQ 12.109375 9.234375 16.796875 8.0625 \r\nQ 21.484375 6.890625 26.703125 6.890625 \r\nQ 35.15625 6.890625 40.078125 11.328125 \r\nQ 45.015625 15.765625 45.015625 23.390625 \r\nQ 45.015625 31 40.078125 35.4375 \r\nQ 35.15625 39.890625 26.703125 39.890625 \r\nQ 22.75 39.890625 18.8125 39.015625 \r\nQ 14.890625 38.140625 10.796875 36.28125 \r\nz\r\n\" id=\"DejaVuSans-53\"/>\r\n       </defs>\r\n       <use xlink:href=\"#DejaVuSans-49\"/>\r\n       <use x=\"63.623047\" xlink:href=\"#DejaVuSans-46\"/>\r\n       <use x=\"95.410156\" xlink:href=\"#DejaVuSans-53\"/>\r\n      </g>\r\n     </g>\r\n    </g>\r\n    <g id=\"ytick_3\">\r\n     <g id=\"line2d_9\">\r\n      <g>\r\n       <use style=\"stroke:#000000;stroke-width:0.8;\" x=\"30.103125\" xlink:href=\"#m1eadc1ffe1\" y=\"143.619357\"/>\r\n      </g>\r\n     </g>\r\n     <g id=\"text_9\">\r\n      <!-- 2.0 -->\r\n      <g transform=\"translate(7.2 147.418576)scale(0.1 -0.1)\">\r\n       <use xlink:href=\"#DejaVuSans-50\"/>\r\n       <use x=\"63.623047\" xlink:href=\"#DejaVuSans-46\"/>\r\n       <use x=\"95.410156\" xlink:href=\"#DejaVuSans-48\"/>\r\n      </g>\r\n     </g>\r\n    </g>\r\n    <g id=\"ytick_4\">\r\n     <g id=\"line2d_10\">\r\n      <g>\r\n       <use style=\"stroke:#000000;stroke-width:0.8;\" x=\"30.103125\" xlink:href=\"#m1eadc1ffe1\" y=\"110.808186\"/>\r\n      </g>\r\n     </g>\r\n     <g id=\"text_10\">\r\n      <!-- 2.5 -->\r\n      <g transform=\"translate(7.2 114.607405)scale(0.1 -0.1)\">\r\n       <use xlink:href=\"#DejaVuSans-50\"/>\r\n       <use x=\"63.623047\" xlink:href=\"#DejaVuSans-46\"/>\r\n       <use x=\"95.410156\" xlink:href=\"#DejaVuSans-53\"/>\r\n      </g>\r\n     </g>\r\n    </g>\r\n    <g id=\"ytick_5\">\r\n     <g id=\"line2d_11\">\r\n      <g>\r\n       <use style=\"stroke:#000000;stroke-width:0.8;\" x=\"30.103125\" xlink:href=\"#m1eadc1ffe1\" y=\"77.997016\"/>\r\n      </g>\r\n     </g>\r\n     <g id=\"text_11\">\r\n      <!-- 3.0 -->\r\n      <g transform=\"translate(7.2 81.796235)scale(0.1 -0.1)\">\r\n       <defs>\r\n        <path d=\"M 40.578125 39.3125 \r\nQ 47.65625 37.796875 51.625 33 \r\nQ 55.609375 28.21875 55.609375 21.1875 \r\nQ 55.609375 10.40625 48.1875 4.484375 \r\nQ 40.765625 -1.421875 27.09375 -1.421875 \r\nQ 22.515625 -1.421875 17.65625 -0.515625 \r\nQ 12.796875 0.390625 7.625 2.203125 \r\nL 7.625 11.71875 \r\nQ 11.71875 9.328125 16.59375 8.109375 \r\nQ 21.484375 6.890625 26.8125 6.890625 \r\nQ 36.078125 6.890625 40.9375 10.546875 \r\nQ 45.796875 14.203125 45.796875 21.1875 \r\nQ 45.796875 27.640625 41.28125 31.265625 \r\nQ 36.765625 34.90625 28.71875 34.90625 \r\nL 20.21875 34.90625 \r\nL 20.21875 43.015625 \r\nL 29.109375 43.015625 \r\nQ 36.375 43.015625 40.234375 45.921875 \r\nQ 44.09375 48.828125 44.09375 54.296875 \r\nQ 44.09375 59.90625 40.109375 62.90625 \r\nQ 36.140625 65.921875 28.71875 65.921875 \r\nQ 24.65625 65.921875 20.015625 65.03125 \r\nQ 15.375 64.15625 9.8125 62.3125 \r\nL 9.8125 71.09375 \r\nQ 15.4375 72.65625 20.34375 73.4375 \r\nQ 25.25 74.21875 29.59375 74.21875 \r\nQ 40.828125 74.21875 47.359375 69.109375 \r\nQ 53.90625 64.015625 53.90625 55.328125 \r\nQ 53.90625 49.265625 50.4375 45.09375 \r\nQ 46.96875 40.921875 40.578125 39.3125 \r\nz\r\n\" id=\"DejaVuSans-51\"/>\r\n       </defs>\r\n       <use xlink:href=\"#DejaVuSans-51\"/>\r\n       <use x=\"63.623047\" xlink:href=\"#DejaVuSans-46\"/>\r\n       <use x=\"95.410156\" xlink:href=\"#DejaVuSans-48\"/>\r\n      </g>\r\n     </g>\r\n    </g>\r\n    <g id=\"ytick_6\">\r\n     <g id=\"line2d_12\">\r\n      <g>\r\n       <use style=\"stroke:#000000;stroke-width:0.8;\" x=\"30.103125\" xlink:href=\"#m1eadc1ffe1\" y=\"45.185845\"/>\r\n      </g>\r\n     </g>\r\n     <g id=\"text_12\">\r\n      <!-- 3.5 -->\r\n      <g transform=\"translate(7.2 48.985064)scale(0.1 -0.1)\">\r\n       <use xlink:href=\"#DejaVuSans-51\"/>\r\n       <use x=\"63.623047\" xlink:href=\"#DejaVuSans-46\"/>\r\n       <use x=\"95.410156\" xlink:href=\"#DejaVuSans-53\"/>\r\n      </g>\r\n     </g>\r\n    </g>\r\n    <g id=\"ytick_7\">\r\n     <g id=\"line2d_13\">\r\n      <g>\r\n       <use style=\"stroke:#000000;stroke-width:0.8;\" x=\"30.103125\" xlink:href=\"#m1eadc1ffe1\" y=\"12.374675\"/>\r\n      </g>\r\n     </g>\r\n     <g id=\"text_13\">\r\n      <!-- 4.0 -->\r\n      <g transform=\"translate(7.2 16.173894)scale(0.1 -0.1)\">\r\n       <use xlink:href=\"#DejaVuSans-52\"/>\r\n       <use x=\"63.623047\" xlink:href=\"#DejaVuSans-46\"/>\r\n       <use x=\"95.410156\" xlink:href=\"#DejaVuSans-48\"/>\r\n      </g>\r\n     </g>\r\n    </g>\r\n   </g>\r\n   <g id=\"line2d_14\">\r\n    <path clip-path=\"url(#p4d648a664f)\" d=\"M 45.321307 17.083636 \r\nL 45.930643 26.462633 \r\nL 46.235312 31.102628 \r\nL 46.844648 43.100649 \r\nL 47.149317 45.743595 \r\nL 48.063322 63.510909 \r\nL 48.36799 64.670936 \r\nL 48.672658 74.679151 \r\nL 49.281995 84.987432 \r\nL 49.586663 89.800953 \r\nL 49.891331 100.416936 \r\nL 50.500668 110.020697 \r\nL 51.110005 128.595105 \r\nL 51.414673 123.315064 \r\nL 51.719341 137.163409 \r\nL 52.02401 141.574776 \r\nL 52.328678 142.372169 \r\nL 52.633346 143.893874 \r\nL 52.938014 147.05361 \r\nL 53.242683 161.533912 \r\nL 53.547351 147.387471 \r\nL 53.852019 147.214454 \r\nL 54.156688 148.685311 \r\nL 54.461356 142.040154 \r\nL 54.766024 150.165986 \r\nL 55.070693 151.419354 \r\nL 55.375361 157.544194 \r\nL 55.680029 160.648262 \r\nL 55.984697 149.026635 \r\nL 56.289366 150.696309 \r\nL 56.594034 163.082348 \r\nL 56.898702 150.928114 \r\nL 57.203371 157.92834 \r\nL 57.508039 160.602999 \r\nL 57.812707 160.75139 \r\nL 58.117376 162.421267 \r\nL 58.422044 159.579145 \r\nL 58.726712 170.257405 \r\nL 59.336049 160.366172 \r\nL 59.640717 157.765821 \r\nL 59.945385 163.860324 \r\nL 60.250054 163.153026 \r\nL 60.554722 158.830347 \r\nL 60.85939 171.067893 \r\nL 61.164059 162.0534 \r\nL 61.468727 169.691942 \r\nL 61.773395 168.977025 \r\nL 62.382732 166.280759 \r\nL 62.6874 171.398313 \r\nL 62.992068 170.053543 \r\nL 63.601405 175.271369 \r\nL 63.906073 172.954125 \r\nL 64.210742 173.999837 \r\nL 64.51541 165.90593 \r\nL 64.820078 164.169802 \r\nL 65.124747 172.126356 \r\nL 65.734083 160.101793 \r\nL 66.038752 178.644307 \r\nL 66.34342 162.25763 \r\nL 66.952756 180.749835 \r\nL 67.257425 169.839144 \r\nL 67.562093 175.716564 \r\nL 68.17143 179.804466 \r\nL 68.780766 169.54126 \r\nL 69.085435 169.017539 \r\nL 69.390103 178.302905 \r\nL 69.694771 174.110201 \r\nL 69.999439 178.38768 \r\nL 70.304108 168.21054 \r\nL 70.608776 176.963565 \r\nL 70.913444 175.756891 \r\nL 71.218113 170.502376 \r\nL 71.522781 176.846371 \r\nL 71.827449 180.316554 \r\nL 72.132118 180.879811 \r\nL 72.436786 182.439605 \r\nL 72.741454 177.984525 \r\nL 73.046123 177.592955 \r\nL 73.350791 177.832067 \r\nL 73.655459 176.826634 \r\nL 73.960127 177.532375 \r\nL 74.264796 180.526573 \r\nL 74.569464 184.850856 \r\nL 74.874132 181.625949 \r\nL 75.178801 187.902754 \r\nL 75.483469 188.712327 \r\nL 75.788137 182.161834 \r\nL 76.092806 178.702251 \r\nL 76.397474 180.157838 \r\nL 76.702142 187.861606 \r\nL 77.006811 180.807771 \r\nL 77.311479 184.369598 \r\nL 77.616147 175.834673 \r\nL 77.920815 183.834378 \r\nL 78.225484 184.271586 \r\nL 78.530152 184.201283 \r\nL 78.83482 187.601991 \r\nL 79.139489 188.990506 \r\nL 79.444157 182.156178 \r\nL 80.053494 185.784452 \r\nL 80.358162 175.128079 \r\nL 80.66283 184.643849 \r\nL 80.967498 183.207929 \r\nL 81.272167 182.948494 \r\nL 81.576835 180.191053 \r\nL 81.881503 183.052936 \r\nL 82.186172 193.581108 \r\nL 82.49084 187.103969 \r\nL 82.795508 191.259914 \r\nL 83.100177 182.692853 \r\nL 83.404845 179.540705 \r\nL 83.709513 190.239563 \r\nL 84.014182 185.459657 \r\nL 84.31885 193.278812 \r\nL 84.623518 193.562138 \r\nL 84.928186 191.273384 \r\nL 85.232855 191.977553 \r\nL 85.537523 186.041157 \r\nL 85.842191 190.797821 \r\nL 86.14686 188.091745 \r\nL 86.451528 186.897119 \r\nL 86.756196 187.488045 \r\nL 87.060865 191.371482 \r\nL 87.365533 192.523435 \r\nL 87.670201 182.223704 \r\nL 87.974869 194.465741 \r\nL 88.584206 188.456835 \r\nL 88.888874 188.226 \r\nL 89.193543 184.303808 \r\nL 89.498211 190.340344 \r\nL 89.802879 186.610585 \r\nL 90.107548 195.710692 \r\nL 90.412216 191.393723 \r\nL 90.716884 189.675603 \r\nL 91.021553 192.803437 \r\nL 91.326221 188.841067 \r\nL 91.630889 192.879764 \r\nL 91.935557 200.854217 \r\nL 92.240226 189.79224 \r\nL 92.544894 187.083825 \r\nL 92.849562 195.966184 \r\nL 93.154231 189.473117 \r\nL 93.458899 190.593177 \r\nL 93.763567 193.20746 \r\nL 94.068236 194.844614 \r\nL 94.372904 191.30272 \r\nL 94.677572 196.11779 \r\nL 95.286909 190.440187 \r\nL 95.591577 194.768053 \r\nL 95.896245 194.856403 \r\nL 96.200914 197.787612 \r\nL 96.505582 193.135209 \r\nL 96.81025 192.201011 \r\nL 97.114919 196.845787 \r\nL 97.419587 188.327157 \r\nL 97.724255 196.875052 \r\nL 98.028924 195.778844 \r\nL 98.333592 197.524609 \r\nL 98.63826 189.360508 \r\nL 98.942928 191.290376 \r\nL 99.247597 196.119127 \r\nL 99.552265 189.957067 \r\nL 99.856933 194.858688 \r\nL 100.161602 194.515361 \r\nL 100.46627 202.611638 \r\nL 100.770938 196.332541 \r\nL 101.075607 192.628355 \r\nL 101.380275 194.846453 \r\nL 101.684943 185.78877 \r\nL 101.989611 195.889286 \r\nL 102.29428 195.161657 \r\nL 102.598948 192.127305 \r\nL 102.903616 192.381913 \r\nL 103.208285 197.382571 \r\nL 103.817621 199.915224 \r\nL 104.12229 188.614355 \r\nL 104.731626 195.416023 \r\nL 105.036295 193.81713 \r\nL 105.340963 187.369412 \r\nL 105.950299 197.524359 \r\nL 106.254968 187.025068 \r\nL 106.559636 190.96749 \r\nL 106.864304 192.550933 \r\nL 107.168973 198.570235 \r\nL 107.473641 195.086339 \r\nL 107.778309 198.877194 \r\nL 108.082978 189.334216 \r\nL 108.692314 196.952255 \r\nL 108.996982 198.263097 \r\nL 109.301651 186.631957 \r\nL 109.606319 198.817623 \r\nL 109.910987 193.827831 \r\nL 110.215656 200.945047 \r\nL 110.520324 192.767311 \r\nL 111.129661 198.822966 \r\nL 111.434329 197.866638 \r\nL 111.738997 191.018565 \r\nL 112.043666 190.550449 \r\nL 112.348334 196.627171 \r\nL 112.653002 189.657023 \r\nL 112.95767 202.013828 \r\nL 113.262339 194.326503 \r\nL 113.567007 194.329797 \r\nL 113.871675 186.924655 \r\nL 114.176344 192.648326 \r\nL 114.481012 202.569309 \r\nL 114.78568 194.824103 \r\nL 115.090349 191.813126 \r\nL 115.395017 200.484527 \r\nL 115.699685 198.572684 \r\nL 116.004354 190.89272 \r\nL 116.309022 199.171495 \r\nL 116.61369 196.849119 \r\nL 116.918358 191.664986 \r\nL 117.223027 197.133564 \r\nL 117.527695 194.218157 \r\nL 117.832363 197.180845 \r\nL 118.137032 194.326722 \r\nL 118.4417 197.055078 \r\nL 118.746368 203.588596 \r\nL 119.051037 197.42515 \r\nL 119.355705 196.201243 \r\nL 119.965041 198.357901 \r\nL 120.26971 201.52639 \r\nL 120.879046 194.442546 \r\nL 121.183715 204.392943 \r\nL 121.488383 196.799812 \r\nL 121.793051 198.334347 \r\nL 122.09772 197.204493 \r\nL 122.402388 191.760111 \r\nL 122.707056 197.592425 \r\nL 123.011725 201.10252 \r\nL 123.316393 198.314578 \r\nL 123.621061 198.138198 \r\nL 123.925729 202.600108 \r\nL 124.230398 197.078702 \r\nL 124.535066 196.845012 \r\nL 124.839734 192.895511 \r\nL 125.144403 199.040142 \r\nL 125.449071 200.902217 \r\nL 125.753739 200.469828 \r\nL 126.058408 194.168647 \r\nL 126.363076 200.18766 \r\nL 126.667744 197.072867 \r\nL 126.972412 186.155096 \r\nL 127.277081 199.902785 \r\nL 127.581749 200.887284 \r\nL 127.886417 196.643904 \r\nL 128.191086 197.722988 \r\nL 128.495754 195.948473 \r\nL 128.800422 200.000515 \r\nL 129.105091 197.645284 \r\nL 129.409759 197.701537 \r\nL 129.714427 192.031452 \r\nL 130.019096 196.988161 \r\nL 130.323764 199.464951 \r\nL 130.628432 199.461032 \r\nL 130.9331 190.200504 \r\nL 131.237769 193.473342 \r\nL 131.542437 202.414035 \r\nL 131.847105 197.435649 \r\nL 132.151774 195.905205 \r\nL 132.456442 197.201786 \r\nL 132.76111 194.332245 \r\nL 133.065779 201.836939 \r\nL 133.370447 203.466419 \r\nL 133.675115 195.001946 \r\nL 133.979783 203.716444 \r\nL 134.284452 201.029025 \r\nL 134.58912 194.480667 \r\nL 134.893788 199.867583 \r\nL 135.198457 198.680497 \r\nL 135.503125 201.957684 \r\nL 135.807793 195.208249 \r\nL 136.112462 194.225949 \r\nL 136.41713 197.630851 \r\nL 136.721798 197.74558 \r\nL 137.026467 202.140683 \r\nL 137.331135 198.640734 \r\nL 137.635803 200.451828 \r\nL 137.940471 199.331588 \r\nL 138.24514 199.265666 \r\nL 138.549808 203.699984 \r\nL 138.854476 198.828278 \r\nL 139.159145 199.438002 \r\nL 139.463813 204.939185 \r\nL 139.768481 200.013705 \r\nL 140.07315 197.544902 \r\nL 140.377818 202.963195 \r\nL 140.682486 191.395929 \r\nL 140.987154 203.981824 \r\nL 141.596491 199.221647 \r\nL 141.901159 199.560382 \r\nL 142.205828 198.099467 \r\nL 142.815164 199.877721 \r\nL 143.119833 197.888228 \r\nL 143.424501 201.95213 \r\nL 143.729169 200.764388 \r\nL 144.033838 195.349873 \r\nL 144.338506 194.580462 \r\nL 144.643174 204.324494 \r\nL 144.947842 203.524449 \r\nL 145.252511 195.816675 \r\nL 145.557179 204.246274 \r\nL 145.861847 199.465476 \r\nL 146.166516 197.829471 \r\nL 146.471184 200.481774 \r\nL 146.775852 206.667803 \r\nL 147.080521 197.865198 \r\nL 147.385189 200.929355 \r\nL 147.689857 202.748506 \r\nL 147.994525 197.076903 \r\nL 148.299194 204.299484 \r\nL 148.603862 203.360569 \r\nL 148.90853 197.93709 \r\nL 149.213199 202.422835 \r\nL 149.517867 200.98262 \r\nL 149.822535 202.393766 \r\nL 150.127204 199.677661 \r\nL 150.431872 205.440791 \r\nL 150.73654 199.034635 \r\nL 151.041209 197.207286 \r\nL 151.345877 199.702045 \r\nL 151.650545 203.928426 \r\nL 151.955213 201.511871 \r\nL 152.259882 197.682215 \r\nL 152.56455 205.86761 \r\nL 152.869218 195.176293 \r\nL 153.173887 199.27129 \r\nL 153.478555 198.304065 \r\nL 153.783223 208.687218 \r\nL 154.087892 195.914389 \r\nL 154.39256 203.725925 \r\nL 154.697228 202.775847 \r\nL 155.001896 197.90802 \r\nL 155.306565 197.956099 \r\nL 155.611233 203.353169 \r\nL 155.915901 206.168834 \r\nL 156.525238 202.321898 \r\nL 156.829906 206.321535 \r\nL 157.134575 203.068169 \r\nL 157.439243 204.32217 \r\nL 157.743911 199.03674 \r\nL 158.04858 205.463993 \r\nL 158.353248 196.472475 \r\nL 158.657916 199.338089 \r\nL 158.962584 200.441877 \r\nL 159.267253 200.150525 \r\nL 159.571921 202.253722 \r\nL 159.876589 202.235589 \r\nL 160.181258 200.462819 \r\nL 160.485926 200.504687 \r\nL 160.790594 202.833923 \r\nL 161.095263 202.789591 \r\nL 161.399931 206.676166 \r\nL 162.009268 199.604393 \r\nL 162.313936 206.028055 \r\nL 162.618604 199.626813 \r\nL 162.923272 204.609572 \r\nL 163.227941 204.052996 \r\nL 163.532609 198.180558 \r\nL 163.837277 198.308719 \r\nL 164.141946 201.614358 \r\nL 164.446614 202.717637 \r\nL 164.751282 205.300129 \r\nL 165.055951 201.879511 \r\nL 165.360619 199.751868 \r\nL 165.665287 199.572882 \r\nL 165.969955 198.630103 \r\nL 166.274624 203.229232 \r\nL 166.579292 196.798177 \r\nL 166.88396 199.680469 \r\nL 167.188629 204.178106 \r\nL 167.493297 201.106291 \r\nL 167.797965 200.987517 \r\nL 168.102634 196.151975 \r\nL 168.407302 201.634798 \r\nL 168.71197 201.976412 \r\nL 169.016639 195.717693 \r\nL 169.321307 196.718901 \r\nL 169.625975 192.861114 \r\nL 169.930643 202.214241 \r\nL 170.235312 206.815271 \r\nL 170.53998 203.996695 \r\nL 170.844648 205.678752 \r\nL 171.149317 202.896795 \r\nL 171.453985 206.14614 \r\nL 171.758653 196.176578 \r\nL 172.36799 200.529313 \r\nL 172.672658 197.912917 \r\nL 172.977326 200.170497 \r\nL 173.281995 205.0489 \r\nL 173.586663 198.105655 \r\nL 173.891331 202.467809 \r\nL 174.196 202.140393 \r\nL 174.500668 201.262254 \r\nL 174.805336 206.443938 \r\nL 175.110005 202.329979 \r\nL 175.414673 207.955771 \r\nL 176.02401 199.91847 \r\nL 176.328678 203.101126 \r\nL 176.633346 204.651964 \r\nL 176.938014 203.210583 \r\nL 177.242683 204.319964 \r\nL 177.547351 199.962794 \r\nL 177.852019 200.883435 \r\nL 178.156688 198.605547 \r\nL 178.461356 197.803468 \r\nL 179.070693 199.952257 \r\nL 179.375361 202.712099 \r\nL 179.680029 199.519398 \r\nL 179.984697 202.942363 \r\nL 180.289366 197.011207 \r\nL 180.594034 206.311506 \r\nL 180.898702 211.19519 \r\nL 181.203371 200.907998 \r\nL 181.508039 205.097534 \r\nL 181.812707 205.142226 \r\nL 182.117376 203.43117 \r\nL 182.422044 202.509582 \r\nL 182.726712 207.28571 \r\nL 183.031381 198.84983 \r\nL 183.336049 194.217086 \r\nL 183.640717 200.972059 \r\nL 183.945385 204.510058 \r\nL 184.250054 202.307418 \r\nL 184.554722 202.083334 \r\nL 184.85939 196.377467 \r\nL 185.164059 198.676641 \r\nL 185.773395 205.935512 \r\nL 186.078064 201.568547 \r\nL 186.382732 199.663744 \r\nL 186.992068 205.182458 \r\nL 187.296737 203.943453 \r\nL 187.601405 205.999354 \r\nL 187.906073 200.51294 \r\nL 188.210742 205.203979 \r\nL 188.820078 200.689719 \r\nL 189.124747 205.000524 \r\nL 189.734083 201.097443 \r\nL 190.34342 204.248972 \r\nL 190.648088 200.264738 \r\nL 191.257425 195.975603 \r\nL 191.562093 201.863529 \r\nL 191.866761 203.854563 \r\nL 192.17143 203.261447 \r\nL 192.476098 203.373735 \r\nL 192.780766 202.266004 \r\nL 193.085435 203.189242 \r\nL 193.390103 198.125611 \r\nL 193.694771 197.82919 \r\nL 193.999439 208.708966 \r\nL 194.304108 196.029283 \r\nL 194.608776 202.492474 \r\nL 194.913444 200.583008 \r\nL 195.218113 207.846299 \r\nL 195.522781 206.301587 \r\nL 195.827449 203.402797 \r\nL 196.132118 202.957163 \r\nL 196.436786 208.992542 \r\nL 196.741454 198.873008 \r\nL 197.046123 198.927025 \r\nL 197.350791 203.091974 \r\nL 197.655459 203.338892 \r\nL 197.960127 206.421597 \r\nL 198.264796 198.12655 \r\nL 198.874132 206.770188 \r\nL 199.178801 191.46351 \r\nL 199.483469 205.790727 \r\nL 199.788137 206.441506 \r\nL 201.006811 192.673657 \r\nL 201.311479 202.491034 \r\nL 201.616147 205.437833 \r\nL 201.920815 207.033456 \r\nL 202.530152 202.311462 \r\nL 202.83482 203.602747 \r\nL 203.139489 200.322384 \r\nL 203.444157 201.856457 \r\nL 203.748825 193.560738 \r\nL 204.053494 205.126001 \r\nL 204.358162 201.985729 \r\nL 204.66283 197.310805 \r\nL 204.967498 202.423211 \r\nL 205.272167 199.0883 \r\nL 205.576835 197.752151 \r\nL 205.881503 201.238042 \r\nL 206.186172 195.461512 \r\nL 206.49084 199.482287 \r\nL 206.795508 208.387144 \r\nL 207.100177 201.864749 \r\nL 207.404845 203.451384 \r\nL 207.709513 204.321294 \r\nL 208.014182 203.139779 \r\nL 208.31885 197.844835 \r\nL 208.623518 204.756312 \r\nL 208.928186 203.108722 \r\nL 209.232855 199.519132 \r\nL 209.537523 203.543646 \r\nL 209.842191 198.542198 \r\nL 210.14686 203.822974 \r\nL 210.451528 201.911733 \r\nL 210.756196 204.317383 \r\nL 211.060865 201.390125 \r\nL 211.670201 205.528844 \r\nL 211.974869 206.003453 \r\nL 212.279538 205.855078 \r\nL 212.584206 203.355883 \r\nL 212.888874 204.348416 \r\nL 213.193543 205.759585 \r\nL 213.498211 199.506005 \r\nL 213.802879 205.374563 \r\nL 214.107548 204.116838 \r\nL 214.412216 194.698657 \r\nL 214.716884 201.098108 \r\nL 215.021553 201.136893 \r\nL 215.326221 208.27085 \r\nL 215.630889 203.296336 \r\nL 215.935557 206.122492 \r\nL 216.240226 206.426024 \r\nL 216.544894 205.347073 \r\nL 216.849562 202.218707 \r\nL 217.154231 197.06585 \r\nL 217.458899 206.348391 \r\nL 217.763567 204.312493 \r\nL 218.068236 203.546134 \r\nL 218.372904 200.424487 \r\nL 218.98224 207.29958 \r\nL 219.286909 205.390482 \r\nL 219.591577 201.531311 \r\nL 219.896245 204.487779 \r\nL 220.200914 201.188524 \r\nL 220.505582 205.931483 \r\nL 220.81025 197.898007 \r\nL 221.114919 203.331562 \r\nL 221.419587 201.359953 \r\nL 221.724255 210.335966 \r\nL 222.028924 197.37959 \r\nL 222.333592 200.605781 \r\nL 222.63826 201.009945 \r\nL 222.942928 207.904798 \r\nL 223.247597 200.391452 \r\nL 223.552265 202.567987 \r\nL 223.856933 202.823425 \r\nL 224.161602 206.650867 \r\nL 224.46627 200.755728 \r\nL 225.075607 206.032233 \r\nL 225.380275 203.843486 \r\nL 225.684943 200.613236 \r\nL 225.989611 206.358162 \r\nL 226.29428 207.075942 \r\nL 226.598948 198.046554 \r\nL 227.208285 205.742727 \r\nL 227.512953 202.237052 \r\nL 227.817621 207.285076 \r\nL 228.12229 201.760284 \r\nL 228.426958 199.598651 \r\nL 228.731626 201.503735 \r\nL 229.036295 204.67957 \r\nL 229.340963 198.34763 \r\nL 229.645631 208.386002 \r\nL 229.950299 208.816075 \r\nL 230.254968 210.805087 \r\nL 230.864304 204.494193 \r\nL 231.168973 204.841572 \r\nL 231.473641 209.935752 \r\nL 231.778309 207.219639 \r\nL 232.387646 199.534105 \r\nL 232.692314 197.520002 \r\nL 232.996982 200.319584 \r\nL 233.301651 200.430128 \r\nL 233.606319 194.300805 \r\nL 233.910987 203.715137 \r\nL 234.215656 199.695614 \r\nL 234.520324 204.996753 \r\nL 234.824992 200.374781 \r\nL 235.129661 201.822444 \r\nL 235.434329 205.938125 \r\nL 235.738997 201.493347 \r\nL 236.043666 198.728451 \r\nL 236.348334 203.215574 \r\nL 236.653002 199.80292 \r\nL 236.95767 207.579714 \r\nL 237.262339 210.616205 \r\nL 237.567007 200.089781 \r\nL 237.871675 204.132546 \r\nL 238.481012 201.688768 \r\nL 238.78568 207.723231 \r\nL 239.090349 206.087462 \r\nL 239.395017 202.608243 \r\nL 239.699685 202.923048 \r\nL 240.004354 203.643981 \r\nL 240.309022 210.831176 \r\nL 240.61369 211.085991 \r\nL 240.918358 202.931911 \r\nL 241.223027 211.200963 \r\nL 241.527695 207.534444 \r\nL 241.832363 206.649631 \r\nL 242.137032 202.417899 \r\nL 242.4417 200.869941 \r\nL 242.746368 206.457542 \r\nL 243.051037 206.279824 \r\nL 243.355705 203.056458 \r\nL 243.660373 205.129076 \r\nL 243.965041 201.023392 \r\nL 244.26971 206.219526 \r\nL 244.574378 206.389836 \r\nL 244.879046 205.141756 \r\nL 245.183715 207.491512 \r\nL 245.488383 207.599482 \r\nL 245.793051 202.391474 \r\nL 246.402388 206.232809 \r\nL 246.707056 207.645527 \r\nL 247.011725 206.418866 \r\nL 247.316393 205.999846 \r\nL 247.621061 205.115863 \r\nL 247.925729 201.093485 \r\nL 248.230398 203.210849 \r\nL 248.535066 206.191333 \r\nL 248.839734 205.54118 \r\nL 249.144403 206.404566 \r\nL 249.449071 208.031433 \r\nL 249.753739 204.324517 \r\nL 250.058408 207.40615 \r\nL 250.363076 203.373954 \r\nL 250.972412 202.136709 \r\nL 251.277081 202.88776 \r\nL 251.581749 200.599131 \r\nL 251.886417 205.601619 \r\nL 252.191086 197.167186 \r\nL 252.800422 209.653622 \r\nL 253.409759 200.547587 \r\nL 253.714427 206.683731 \r\nL 254.019096 209.658297 \r\nL 254.323764 204.259064 \r\nL 254.628432 195.142217 \r\nL 254.9331 203.077846 \r\nL 255.237769 195.921531 \r\nL 255.542437 207.384598 \r\nL 255.847105 200.978787 \r\nL 256.151774 202.261936 \r\nL 256.456442 206.797443 \r\nL 256.76111 207.332882 \r\nL 257.065779 209.841233 \r\nL 257.370447 201.890252 \r\nL 257.675115 209.542222 \r\nL 257.979783 206.272072 \r\nL 258.284452 207.185344 \r\nL 258.58912 199.373808 \r\nL 259.198457 205.923887 \r\nL 259.503125 200.400729 \r\nL 259.807793 208.895218 \r\nL 260.112462 202.289394 \r\nL 260.41713 202.241839 \r\nL 260.721798 208.086944 \r\nL 261.331135 202.554642 \r\nL 261.635803 206.696536 \r\nL 261.940471 202.913786 \r\nL 262.24514 205.558398 \r\nL 262.549808 206.91825 \r\nL 262.854476 199.352264 \r\nL 263.159145 204.448055 \r\nL 263.463813 197.448986 \r\nL 264.07315 205.537269 \r\nL 264.377818 205.720549 \r\nL 264.682486 200.947832 \r\nL 264.987154 200.3519 \r\nL 265.596491 212.679463 \r\nL 265.901159 207.870268 \r\nL 266.205828 209.899575 \r\nL 266.510496 204.637304 \r\nL 266.815164 211.331799 \r\nL 267.119833 203.78602 \r\nL 267.424501 204.048373 \r\nL 267.729169 198.606728 \r\nL 268.033838 206.373307 \r\nL 268.338506 202.287564 \r\nL 268.643174 204.861779 \r\nL 268.947842 203.965772 \r\nL 269.557179 204.647606 \r\nL 269.861847 209.329755 \r\nL 270.166516 204.635027 \r\nL 270.471184 213.271336 \r\nL 270.775852 200.08084 \r\nL 271.080521 206.135869 \r\nL 271.385189 207.922892 \r\nL 271.689857 205.614848 \r\nL 271.994525 205.244204 \r\nL 272.299194 207.362068 \r\nL 272.603862 202.115353 \r\nL 272.90853 201.529817 \r\nL 273.213199 211.439828 \r\nL 273.517867 199.335156 \r\nL 273.822535 200.291688 \r\nL 274.127204 204.456018 \r\nL 274.431872 201.667224 \r\nL 274.73654 206.224486 \r\nL 275.041209 202.713898 \r\nL 275.345877 203.108996 \r\nL 275.650545 205.035288 \r\nL 275.955213 201.861261 \r\nL 276.259882 210.589972 \r\nL 276.56455 209.750042 \r\nL 276.869218 206.308855 \r\nL 277.173887 206.365977 \r\nL 277.478555 205.15493 \r\nL 277.783223 204.815358 \r\nL 278.087892 209.217251 \r\nL 278.697228 201.516369 \r\nL 279.001896 207.460651 \r\nL 279.306565 207.08723 \r\nL 279.611233 205.12457 \r\nL 279.915901 199.831465 \r\nL 280.22057 211.580677 \r\nL 280.829906 204.255708 \r\nL 281.134575 205.676718 \r\nL 281.439243 203.262503 \r\nL 281.743911 205.252605 \r\nL 282.04858 199.198225 \r\nL 282.353248 209.09157 \r\nL 282.657916 202.723911 \r\nL 282.962584 203.662239 \r\nL 283.267253 205.435933 \r\nL 283.571921 198.331593 \r\nL 283.876589 207.922126 \r\nL 284.181258 203.164624 \r\nL 284.485926 206.424687 \r\nL 284.790594 198.870263 \r\nL 285.399931 207.825991 \r\nL 285.704599 204.270704 \r\nL 286.009268 202.114359 \r\nL 286.313936 206.816256 \r\nL 286.618604 205.293605 \r\nL 286.923272 202.539098 \r\nL 287.227941 204.826459 \r\nL 287.532609 200.945235 \r\nL 287.837277 205.216441 \r\nL 288.141946 201.316145 \r\nL 288.446614 205.430019 \r\nL 288.751282 205.504014 \r\nL 289.055951 209.021134 \r\nL 289.360619 202.008032 \r\nL 289.665287 204.075259 \r\nL 289.969955 208.338181 \r\nL 290.274624 200.611444 \r\nL 290.579292 205.965043 \r\nL 290.88396 206.472922 \r\nL 291.188629 205.902288 \r\nL 291.493297 207.814906 \r\nL 291.797965 206.795972 \r\nL 292.102634 207.021417 \r\nL 292.407302 208.00076 \r\nL 292.71197 199.548843 \r\nL 293.016639 196.114449 \r\nL 293.321307 207.423634 \r\nL 293.625975 204.067132 \r\nL 293.930643 206.842306 \r\nL 294.235312 198.049824 \r\nL 294.53998 206.745546 \r\nL 294.844648 204.718676 \r\nL 295.149317 199.894032 \r\nL 295.453985 206.689175 \r\nL 295.758653 208.731464 \r\nL 296.063322 207.816166 \r\nL 296.36799 204.277909 \r\nL 296.672658 204.266276 \r\nL 296.977326 203.121974 \r\nL 297.281995 205.635922 \r\nL 297.586663 199.509166 \r\nL 297.891331 208.451736 \r\nL 298.196 202.030491 \r\nL 298.500668 203.318209 \r\nL 298.805336 206.418123 \r\nL 299.110005 205.32614 \r\nL 299.414673 202.338952 \r\nL 299.719341 206.865172 \r\nL 300.02401 206.401695 \r\nL 300.328678 198.918381 \r\nL 300.633346 208.460654 \r\nL 300.938014 200.347793 \r\nL 301.242683 206.719465 \r\nL 301.852019 205.381854 \r\nL 302.156688 203.005281 \r\nL 302.461356 195.13484 \r\nL 302.766024 205.41909 \r\nL 303.070693 197.017059 \r\nL 303.375361 209.103571 \r\nL 303.680029 200.067964 \r\nL 303.984697 209.084162 \r\nL 304.289366 207.007383 \r\nL 304.898702 199.888759 \r\nL 305.203371 203.968799 \r\nL 305.508039 199.036114 \r\nL 305.812707 207.944366 \r\nL 306.117376 209.102616 \r\nL 306.422044 203.866954 \r\nL 306.726712 205.873383 \r\nL 307.031381 210.203166 \r\nL 307.640717 200.870144 \r\nL 307.945385 200.730093 \r\nL 308.554722 206.542224 \r\nL 308.85939 210.963127 \r\nL 309.164059 204.871362 \r\nL 309.468727 214.756364 \r\nL 309.773395 205.322439 \r\nL 310.078064 209.247815 \r\nL 310.382732 209.178834 \r\nL 310.6874 208.371435 \r\nL 310.992068 199.620688 \r\nL 311.296737 207.284951 \r\nL 311.601405 211.922936 \r\nL 311.906073 209.558212 \r\nL 312.210742 208.183039 \r\nL 312.51541 201.671933 \r\nL 312.820078 207.073446 \r\nL 313.124747 199.851186 \r\nL 313.429415 205.137446 \r\nL 313.734083 205.580114 \r\nL 314.038752 205.046467 \r\nL 314.34342 210.304498 \r\nL 314.648088 211.557733 \r\nL 315.257425 199.621916 \r\nL 315.562093 207.447016 \r\nL 315.866761 204.785506 \r\nL 316.17143 204.345717 \r\nL 316.476098 196.253273 \r\nL 316.780766 208.141039 \r\nL 317.085435 205.116113 \r\nL 317.390103 203.542113 \r\nL 317.694771 206.164047 \r\nL 317.999439 206.985487 \r\nL 318.304108 204.66527 \r\nL 318.608776 200.626354 \r\nL 318.913444 199.292177 \r\nL 319.218113 204.344731 \r\nL 319.522781 201.394592 \r\nL 319.827449 203.567326 \r\nL 320.132118 209.630471 \r\nL 320.436786 200.714377 \r\nL 320.741454 207.114555 \r\nL 321.046123 199.569675 \r\nL 321.350791 206.449485 \r\nL 321.655459 200.452485 \r\nL 321.960127 203.047055 \r\nL 322.264796 200.712515 \r\nL 322.874132 207.74296 \r\nL 323.483469 201.454522 \r\nL 323.788137 208.642644 \r\nL 324.092806 199.174577 \r\nL 324.397474 199.014226 \r\nL 324.702142 204.247721 \r\nL 325.006811 204.405358 \r\nL 325.311479 202.784608 \r\nL 325.616147 203.689064 \r\nL 325.920815 207.53981 \r\nL 326.225484 205.412253 \r\nL 326.530152 206.513272 \r\nL 326.83482 205.912513 \r\nL 327.139489 203.012893 \r\nL 327.444157 203.774199 \r\nL 327.748825 208.705234 \r\nL 328.053494 209.06315 \r\nL 328.66283 203.89449 \r\nL 328.967498 206.695559 \r\nL 329.576835 205.313318 \r\nL 329.881503 208.793021 \r\nL 330.186172 210.231985 \r\nL 330.49084 206.553974 \r\nL 330.795508 210.819015 \r\nL 331.100177 207.047232 \r\nL 331.404845 210.209264 \r\nL 331.709513 197.635138 \r\nL 332.014182 210.833605 \r\nL 332.31885 203.147586 \r\nL 332.623518 199.475888 \r\nL 332.928186 209.15197 \r\nL 333.232855 201.578521 \r\nL 333.842191 208.597413 \r\nL 334.14686 212.852441 \r\nL 334.756196 204.097586 \r\nL 335.060865 208.744708 \r\nL 335.365533 205.862595 \r\nL 335.670201 207.669833 \r\nL 336.279538 201.54813 \r\nL 336.584206 200.543699 \r\nL 336.888874 210.170185 \r\nL 337.193543 202.354988 \r\nL 337.498211 200.657638 \r\nL 337.802879 206.071769 \r\nL 338.412216 202.354871 \r\nL 338.716884 208.649106 \r\nL 339.021553 205.976065 \r\nL 339.326221 207.480052 \r\nL 339.630889 204.191138 \r\nL 339.935557 208.328527 \r\nL 340.240226 207.721127 \r\nL 340.544894 208.313281 \r\nL 340.849562 206.85408 \r\nL 341.154231 209.319695 \r\nL 341.458899 209.336334 \r\nL 341.763567 204.91495 \r\nL 342.372904 211.57941 \r\nL 342.677572 203.535033 \r\nL 342.98224 200.274078 \r\nL 343.286909 201.338714 \r\nL 343.591577 204.541404 \r\nL 344.200914 203.259272 \r\nL 344.505582 209.38482 \r\nL 344.81025 201.847453 \r\nL 345.114919 204.940429 \r\nL 345.419587 205.540234 \r\nL 345.724255 208.763725 \r\nL 346.028924 208.490076 \r\nL 346.333592 208.018768 \r\nL 346.63826 211.220152 \r\nL 346.942928 206.718104 \r\nL 347.247597 208.688947 \r\nL 347.552265 206.614389 \r\nL 347.856933 207.08572 \r\nL 348.161602 204.272808 \r\nL 348.46627 207.230865 \r\nL 348.770938 205.329824 \r\nL 349.075607 201.90603 \r\nL 349.380275 205.302194 \r\nL 349.684943 207.023193 \r\nL 349.684943 207.023193 \r\n\" style=\"fill:none;stroke:#1f77b4;stroke-linecap:square;stroke-width:1.5;\"/>\r\n   </g>\r\n   <g id=\"patch_3\">\r\n    <path d=\"M 30.103125 224.64 \r\nL 30.103125 7.2 \r\n\" style=\"fill:none;stroke:#000000;stroke-linecap:square;stroke-linejoin:miter;stroke-width:0.8;\"/>\r\n   </g>\r\n   <g id=\"patch_4\">\r\n    <path d=\"M 364.903125 224.64 \r\nL 364.903125 7.2 \r\n\" style=\"fill:none;stroke:#000000;stroke-linecap:square;stroke-linejoin:miter;stroke-width:0.8;\"/>\r\n   </g>\r\n   <g id=\"patch_5\">\r\n    <path d=\"M 30.103125 224.64 \r\nL 364.903125 224.64 \r\n\" style=\"fill:none;stroke:#000000;stroke-linecap:square;stroke-linejoin:miter;stroke-width:0.8;\"/>\r\n   </g>\r\n   <g id=\"patch_6\">\r\n    <path d=\"M 30.103125 7.2 \r\nL 364.903125 7.2 \r\n\" style=\"fill:none;stroke:#000000;stroke-linecap:square;stroke-linejoin:miter;stroke-width:0.8;\"/>\r\n   </g>\r\n   <g id=\"legend_1\">\r\n    <g id=\"patch_7\">\r\n     <path d=\"M 306.5875 29.878125 \r\nL 357.903125 29.878125 \r\nQ 359.903125 29.878125 359.903125 27.878125 \r\nL 359.903125 14.2 \r\nQ 359.903125 12.2 357.903125 12.2 \r\nL 306.5875 12.2 \r\nQ 304.5875 12.2 304.5875 14.2 \r\nL 304.5875 27.878125 \r\nQ 304.5875 29.878125 306.5875 29.878125 \r\nz\r\n\" style=\"fill:#ffffff;opacity:0.8;stroke:#cccccc;stroke-linejoin:miter;\"/>\r\n    </g>\r\n    <g id=\"line2d_15\">\r\n     <path d=\"M 308.5875 20.298437 \r\nL 328.5875 20.298437 \r\n\" style=\"fill:none;stroke:#1f77b4;stroke-linecap:square;stroke-width:1.5;\"/>\r\n    </g>\r\n    <g id=\"line2d_16\"/>\r\n    <g id=\"text_14\">\r\n     <!-- loss -->\r\n     <g transform=\"translate(336.5875 23.798437)scale(0.1 -0.1)\">\r\n      <defs>\r\n       <path d=\"M 9.421875 75.984375 \r\nL 18.40625 75.984375 \r\nL 18.40625 0 \r\nL 9.421875 0 \r\nz\r\n\" id=\"DejaVuSans-108\"/>\r\n       <path d=\"M 30.609375 48.390625 \r\nQ 23.390625 48.390625 19.1875 42.75 \r\nQ 14.984375 37.109375 14.984375 27.296875 \r\nQ 14.984375 17.484375 19.15625 11.84375 \r\nQ 23.34375 6.203125 30.609375 6.203125 \r\nQ 37.796875 6.203125 41.984375 11.859375 \r\nQ 46.1875 17.53125 46.1875 27.296875 \r\nQ 46.1875 37.015625 41.984375 42.703125 \r\nQ 37.796875 48.390625 30.609375 48.390625 \r\nz\r\nM 30.609375 56 \r\nQ 42.328125 56 49.015625 48.375 \r\nQ 55.71875 40.765625 55.71875 27.296875 \r\nQ 55.71875 13.875 49.015625 6.21875 \r\nQ 42.328125 -1.421875 30.609375 -1.421875 \r\nQ 18.84375 -1.421875 12.171875 6.21875 \r\nQ 5.515625 13.875 5.515625 27.296875 \r\nQ 5.515625 40.765625 12.171875 48.375 \r\nQ 18.84375 56 30.609375 56 \r\nz\r\n\" id=\"DejaVuSans-111\"/>\r\n       <path d=\"M 44.28125 53.078125 \r\nL 44.28125 44.578125 \r\nQ 40.484375 46.53125 36.375 47.5 \r\nQ 32.28125 48.484375 27.875 48.484375 \r\nQ 21.1875 48.484375 17.84375 46.4375 \r\nQ 14.5 44.390625 14.5 40.28125 \r\nQ 14.5 37.15625 16.890625 35.375 \r\nQ 19.28125 33.59375 26.515625 31.984375 \r\nL 29.59375 31.296875 \r\nQ 39.15625 29.25 43.1875 25.515625 \r\nQ 47.21875 21.78125 47.21875 15.09375 \r\nQ 47.21875 7.46875 41.1875 3.015625 \r\nQ 35.15625 -1.421875 24.609375 -1.421875 \r\nQ 20.21875 -1.421875 15.453125 -0.5625 \r\nQ 10.6875 0.296875 5.421875 2 \r\nL 5.421875 11.28125 \r\nQ 10.40625 8.6875 15.234375 7.390625 \r\nQ 20.0625 6.109375 24.8125 6.109375 \r\nQ 31.15625 6.109375 34.5625 8.28125 \r\nQ 37.984375 10.453125 37.984375 14.40625 \r\nQ 37.984375 18.0625 35.515625 20.015625 \r\nQ 33.0625 21.96875 24.703125 23.78125 \r\nL 21.578125 24.515625 \r\nQ 13.234375 26.265625 9.515625 29.90625 \r\nQ 5.8125 33.546875 5.8125 39.890625 \r\nQ 5.8125 47.609375 11.28125 51.796875 \r\nQ 16.75 56 26.8125 56 \r\nQ 31.78125 56 36.171875 55.265625 \r\nQ 40.578125 54.546875 44.28125 53.078125 \r\nz\r\n\" id=\"DejaVuSans-115\"/>\r\n      </defs>\r\n      <use xlink:href=\"#DejaVuSans-108\"/>\r\n      <use x=\"27.783203\" xlink:href=\"#DejaVuSans-111\"/>\r\n      <use x=\"88.964844\" xlink:href=\"#DejaVuSans-115\"/>\r\n      <use x=\"141.064453\" xlink:href=\"#DejaVuSans-115\"/>\r\n     </g>\r\n    </g>\r\n   </g>\r\n  </g>\r\n </g>\r\n <defs>\r\n  <clipPath id=\"p4d648a664f\">\r\n   <rect height=\"217.44\" width=\"334.8\" x=\"30.103125\" y=\"7.2\"/>\r\n  </clipPath>\r\n </defs>\r\n</svg>\r\n",
      "image/png": "[encoded data removed]"
     },
     "metadata": {
      "needs_background": "light"
     }
    }
   ],
   "source": [
    "MAX_LENGTH = 16\n",
    "\n",
    "for i in range(1000):\n",
    "    batch_ix = to_matrix(sample(names, 32), max_len=MAX_LENGTH)\n",
    "    batch_ix = torch.tensor(batch_ix, dtype=torch.int64)\n",
    "    \n",
    "    logp_seq = rnn_loop(char_rnn, batch_ix)\n",
    "    \n",
    "    # compute loss\n",
    "    predictions_logp = logp_seq[:, :-1]\n",
    "    actual_next_tokens = batch_ix[:, 1:]\n",
    "\n",
    "    loss = criterion(predictions_logp.contiguous().view(-1, num_tokens), \n",
    "                  actual_next_tokens.contiguous().view(-1))\n",
    "    \n",
    "    # train with backprop\n",
    "    # YOUR CODE HERE\n",
    "    loss.backward()\n",
    "    opt.step()\n",
    "    opt.zero_grad()\n",
    "    \n",
    "    history.append(loss.data.numpy())\n",
    "    if (i+1)%100==0:\n",
    "        clear_output(True)\n",
    "        plt.plot(history,label='loss')\n",
    "        plt.legend()\n",
    "        plt.show()\n",
    "\n",
    "assert np.mean(history[:10]) > np.mean(history[-10:]), \"RNN didn't converge.\""
   ]
  },
  {
   "cell_type": "markdown",
   "metadata": {},
   "source": [
    "### RNN: sampling\n",
    "Once we've trained our network a bit, let's get to actually generating stuff. \n",
    "All we need is the single rnn step function you have defined in `char_rnn.forward`."
   ]
  },
  {
   "cell_type": "code",
   "execution_count": 22,
   "metadata": {},
   "outputs": [],
   "source": [
    "def generate_sample(char_rnn, seed_phrase=' ', max_length=MAX_LENGTH, temperature=1.0):\n",
    "    '''\n",
    "    The function generates text given a phrase of length at least SEQ_LENGTH.\n",
    "    :param seed_phrase: prefix characters. The RNN is asked to continue the phrase\n",
    "    :param max_length: maximum output length, including seed_phrase\n",
    "    :param temperature: coefficient for sampling.  higher temperature produces more chaotic outputs,\n",
    "                        smaller temperature converges to the single most likely output\n",
    "    '''\n",
    "    # convert to list of numbers\n",
    "    x_sequence = [token_to_id[token] for token in seed_phrase]\n",
    "    # convert to tensor\n",
    "    x_sequence = torch.tensor([x_sequence], dtype=torch.int64)\n",
    "    hid_state = char_rnn.initial_state(batch_size=1)\n",
    "    \n",
    "    #feed the seed phrase, if any\n",
    "    for i in range(len(seed_phrase) - 1):\n",
    "        hid_state, _ = char_rnn(x_sequence[:, i], hid_state)\n",
    "    \n",
    "    #start generating\n",
    "    for _ in range(max_length - len(seed_phrase)):\n",
    "        hid_state, logits = char_rnn(x_sequence[:, -1], hid_state)\n",
    "        p_next = F.softmax(logits / temperature, dim=-1).data.numpy()[0]\n",
    "        \n",
    "        # sample next token and push it back into x_sequence\n",
    "        # выбираем рандомный номер из распределения вероятностей что мы получили\n",
    "        next_ix = np.random.choice(num_tokens,p=p_next)\n",
    "        next_ix = torch.tensor([[next_ix]], dtype=torch.int64)\n",
    "        x_sequence = torch.cat([x_sequence, next_ix], dim=1)\n",
    "        \n",
    "    return ''.join([tokens[ix] for ix in x_sequence.data.numpy()[0]])"
   ]
  },
  {
   "cell_type": "code",
   "execution_count": 23,
   "metadata": {},
   "outputs": [
    {
     "output_type": "stream",
     "name": "stdout",
     "text": [
      " Mexinanthe     \n ChiaBpice      \n Dohtote        \n Dozrit         \n Jficea         \n Shabranery     \n Sinl           \n Roy            \n Anelinere      \n Evaco          \n"
     ]
    }
   ],
   "source": [
    "for _ in range(10):\n",
    "    print(generate_sample(char_rnn, temperature=1.1))"
   ]
  },
  {
   "cell_type": "code",
   "execution_count": 24,
   "metadata": {},
   "outputs": [
    {
     "output_type": "stream",
     "name": "stdout",
     "text": [
      " Deboll         \n Debana         \n Deberela       \n Debhror        \n Debana         \n Debice         \n Debere         \n Debam          \n Debise         \n Debere         \n Debily         \n Debrein        \n Debk           \n Debiy          \n Debey          \n Debcel         \n Debo           \n Debashel       \n Debelea        \n Debnotecie     \n Debsotuenonli  \n Debina         \n Debmerle       \n Debian         \n Debelheeteen   \n Deber          \n Debon          \n Debel          \n Debnory        \n Debane         \n Debened        \n Debva          \n Debhie         \n Debbi          \n Deb            \n Debe           \n Deb            \n Debig          \n Debmera        \n Debanne        \n Deby           \n Debii          \n Debi           \n Debe           \n Debetmino      \n Deben          \n Deboro         \n Deble          \n Debtiph        \n Debrtie        \n"
     ]
    }
   ],
   "source": [
    "for _ in range(50):\n",
    "    print(generate_sample(char_rnn, seed_phrase=' Deb'))"
   ]
  },
  {
   "cell_type": "markdown",
   "metadata": {
    "collapsed": true
   },
   "source": [
    "### More seriously\n",
    "\n",
    "What we just did is a manual low-level implementation of RNN. While it's cool, i guess you won't like the idea of re-writing it from scratch on every occasion. \n",
    "\n",
    "As you might have guessed, torch has a solution for this. To be more specific, there are two options:\n",
    "* `nn.RNNCell(emb_size, rnn_num_units)` - implements a single step of RNN just like you did. Basically concat-linear-tanh\n",
    "* `nn.RNN(emb_size, rnn_num_units` - implements the whole rnn_loop for you.\n",
    "\n",
    "There's also `nn.LSTMCell` vs `nn.LSTM`, `nn.GRUCell` vs `nn.GRU`, etc. etc.\n",
    "\n",
    "In this example we'll rewrite the char_rnn and rnn_loop using high-level rnn API."
   ]
  },
  {
   "cell_type": "code",
   "execution_count": 27,
   "metadata": {},
   "outputs": [],
   "source": [
    "class CharRNNLoop(nn.Module):\n",
    "    def __init__(self, num_tokens=num_tokens, emb_size=16, rnn_num_units=64):\n",
    "        super(self.__class__, self).__init__()\n",
    "        self.emb = nn.Embedding(num_tokens, emb_size)\n",
    "        self.rnn = nn.LSTM(emb_size, rnn_num_units, batch_first=True)\n",
    "        self.hid_to_logits = nn.Linear(rnn_num_units, num_tokens)\n",
    "        \n",
    "    def forward(self, x):\n",
    "        assert isinstance(x.data, torch.LongTensor)\n",
    "        h_seq, _ = self.rnn(self.emb(x))\n",
    "        next_logits = self.hid_to_logits(h_seq)\n",
    "        next_logp = F.log_softmax(next_logits, dim=-1)\n",
    "        return next_logp\n",
    "        "
   ]
  },
  {
   "cell_type": "code",
   "execution_count": 28,
   "metadata": {},
   "outputs": [],
   "source": [
    "model = CharRNNLoop()\n",
    "opt = torch.optim.Adam(model.parameters(), lr=1e-3)\n",
    "history = []\n",
    "\n",
    "# the model applies over the whole sequence\n",
    "batch_ix = to_matrix(sample(names, 32), max_len=MAX_LENGTH)\n",
    "batch_ix = torch.LongTensor(batch_ix)"
   ]
  },
  {
   "cell_type": "code",
   "execution_count": 29,
   "metadata": {},
   "outputs": [],
   "source": [
    "logp_seq = model(batch_ix)\n",
    "\n",
    "loss = criterion(logp_seq[:, :-1].contiguous().view(-1, num_tokens),\n",
    "                 batch_ix[:, 1:].contiguous().view(-1))\n",
    "\n",
    "loss.backward()"
   ]
  },
  {
   "cell_type": "code",
   "execution_count": 30,
   "metadata": {},
   "outputs": [
    {
     "output_type": "stream",
     "name": "stdout",
     "text": [
      "tensor([[[-3.9599, -4.1611, -3.8950,  ..., -4.0894, -3.8729, -4.1001],\n         [-3.9138, -4.1556, -3.8925,  ..., -4.1069, -3.8491, -4.1031],\n         [-3.9870, -4.1450, -3.9272,  ..., -4.0142, -3.9118, -4.0896],\n         ...,\n         [-3.9013, -4.2038, -3.8940,  ..., -4.1319, -3.8105, -4.0987],\n         [-3.9007, -4.2046, -3.8938,  ..., -4.1327, -3.8104, -4.0991],\n         [-3.9003, -4.2052, -3.8936,  ..., -4.1332, -3.8104, -4.0994]],\n\n        [[-3.9599, -4.1611, -3.8950,  ..., -4.0894, -3.8729, -4.1001],\n         [-4.0002, -4.1522, -3.9140,  ..., -4.0890, -3.8277, -4.0772],\n         [-3.9906, -4.1439, -3.8803,  ..., -3.9967, -3.8587, -4.1084],\n         ...,\n         [-3.9017, -4.2005, -3.8929,  ..., -4.1272, -3.8138, -4.1003],\n         [-3.9009, -4.2020, -3.8932,  ..., -4.1298, -3.8123, -4.1004],\n         [-3.9004, -4.2033, -3.8933,  ..., -4.1314, -3.8115, -4.1004]],\n\n        [[-3.9599, -4.1611, -3.8950,  ..., -4.0894, -3.8729, -4.1001],\n         [-3.9018, -4.1125, -3.9576,  ..., -4.0449, -3.8903, -4.0880],\n         [-3.9694, -4.1295, -3.9476,  ..., -3.9996, -3.9455, -4.0787],\n         ...,\n         [-3.9044, -4.1997, -3.8920,  ..., -4.1285, -3.8146, -4.0977],\n         [-3.9026, -4.2014, -3.8926,  ..., -4.1304, -3.8130, -4.0984],\n         [-3.9014, -4.2028, -3.8929,  ..., -4.1317, -3.8120, -4.0989]],\n\n        ...,\n\n        [[-3.9599, -4.1611, -3.8950,  ..., -4.0894, -3.8729, -4.1001],\n         [-3.9391, -4.0633, -3.9740,  ..., -4.0743, -3.8505, -4.0295],\n         [-3.9409, -4.0766, -3.9472,  ..., -4.0713, -3.9085, -4.0473],\n         ...,\n         [-3.9071, -4.1961, -3.8949,  ..., -4.1239, -3.8178, -4.0961],\n         [-3.9042, -4.1994, -3.8944,  ..., -4.1274, -3.8145, -4.0976],\n         [-3.9024, -4.2017, -3.8941,  ..., -4.1298, -3.8126, -4.0985]],\n\n        [[-3.9599, -4.1611, -3.8950,  ..., -4.0894, -3.8729, -4.1001],\n         [-3.9391, -4.0633, -3.9740,  ..., -4.0743, -3.8505, -4.0295],\n         [-3.9642, -4.1102, -3.9087,  ..., -3.9953, -3.8718, -4.0802],\n         ...,\n         [-3.9004, -4.2017, -3.8921,  ..., -4.1305, -3.8111, -4.1010],\n         [-3.8997, -4.2033, -3.8924,  ..., -4.1321, -3.8108, -4.1008],\n         [-3.8994, -4.2043, -3.8926,  ..., -4.1330, -3.8106, -4.1006]],\n\n        [[-3.9599, -4.1611, -3.8950,  ..., -4.0894, -3.8729, -4.1001],\n         [-3.9723, -4.1663, -3.9149,  ..., -4.0692, -3.8566, -4.0648],\n         [-3.9072, -4.2112, -3.9273,  ..., -4.0669, -3.9022, -4.0880],\n         ...,\n         [-3.9018, -4.1986, -3.8929,  ..., -4.1290, -3.8126, -4.0998],\n         [-3.9008, -4.2010, -3.8931,  ..., -4.1311, -3.8116, -4.0999],\n         [-3.9003, -4.2028, -3.8932,  ..., -4.1323, -3.8110, -4.1000]]],\n       grad_fn=<LogSoftmaxBackward>)\ntensor([[51,  4, 54, 43, 54, 51, 51, 51, 51, 51, 51, 51, 51, 51, 51, 51],\n        [51, 27, 44, 18, 37, 23, 10,  9, 51, 51, 51, 51, 51, 51, 51, 51],\n        [51, 21, 54, 50, 22, 49, 23, 18, 51, 51, 51, 51, 51, 51, 51, 51],\n        [51, 42, 18, 10, 23, 17, 18, 51, 51, 51, 51, 51, 51, 51, 51, 51],\n        [51, 11,  7, 31, 51, 51, 51, 51, 51, 51, 51, 51, 51, 51, 51, 51],\n        [51, 41, 18, 49, 49,  9, 51, 51, 51, 51, 51, 51, 51, 51, 51, 51],\n        [51, 21, 54, 17, 17, 18, 51, 51, 51, 51, 51, 51, 51, 51, 51, 51],\n        [51, 53, 22, 37, 50, 22, 51, 51, 51, 51, 51, 51, 51, 51, 51, 51],\n        [51, 53, 54, 31, 18, 37, 10, 51, 51, 51, 51, 51, 51, 51, 51, 51],\n        [51,  3, 22, 17, 22, 49, 23, 18, 51, 51, 51, 51, 51, 51, 51, 51],\n        [51, 42, 23, 22, 49, 22, 51, 51, 51, 51, 51, 51, 51, 51, 51, 51],\n        [51, 26, 18, 37, 23, 10, 51, 51, 51, 51, 51, 51, 51, 51, 51, 51],\n        [51, 39, 54,  7, 37, 43, 22, 51, 51, 51, 51, 51, 51, 51, 51, 51],\n        [51, 12,  7, 49, 23, 22, 51, 51, 51, 51, 51, 51, 51, 51, 51, 51],\n        [51, 27, 23, 16, 22, 49,  9, 51, 51, 51, 51, 51, 51, 51, 51, 51],\n        [51,  8, 44, 22, 54, 31, 18, 49, 24, 51, 51, 51, 51, 51, 51, 51],\n        [51, 11, 49, 32, 37, 22, 24, 54, 51, 51, 51, 51, 51, 51, 51, 51],\n        [51, 19, 18, 17, 22, 49, 49, 18, 51, 51, 51, 51, 51, 51, 51, 51],\n        [51,  1, 22, 10, 22, 37, 51, 51, 51, 51, 51, 51, 51, 51, 51, 51],\n        [51, 33, 50, 50, 23, 22, 51, 51, 51, 51, 51, 51, 51, 51, 51, 51],\n        [51, 52, 37, 18,  0, 23, 54, 51, 51, 51, 51, 51, 51, 51, 51, 51],\n        [51, 28, 22, 10, 44, 51, 51, 51, 51, 51, 51, 51, 51, 51, 51, 51],\n        [51, 27, 18, 49, 51, 51, 51, 51, 51, 51, 51, 51, 51, 51, 51, 51],\n        [51, 12, 22, 37, 37,  9, 51, 51, 51, 51, 51, 51, 51, 51, 51, 51],\n        [51,  2, 18,  9, 49, 22, 17, 51, 51, 51, 51, 51, 51, 51, 51, 51],\n        [51, 28, 22, 37, 17, 18, 37, 24, 51, 51, 51, 51, 51, 51, 51, 51],\n        [51, 42, 37, 23,  6, 10, 23, 17, 18, 51, 51, 51, 51, 51, 51, 51],\n        [51, 29, 22, 37, 35, 22, 18, 17, 10, 51, 51, 51, 51, 51, 51, 51],\n        [51, 28, 18, 31, 22, 10, 10, 22, 51, 51, 51, 51, 51, 51, 51, 51],\n        [51, 29,  7, 22, 38, 22, 49, 49, 22, 51, 51, 51, 51, 51, 51, 51],\n        [51, 29, 44, 18, 13,  7,  6, 51, 51, 51, 51, 51, 51, 51, 51, 51],\n        [51,  8, 23, 13, 13, 23, 22, 51, 51, 51, 51, 51, 51, 51, 51, 51]])\n"
     ]
    },
    {
     "output_type": "error",
     "ename": "AssertionError",
     "evalue": "RNN didn't converge.",
     "traceback": [
      "\u001b[1;31m---------------------------------------------------------------------------\u001b[0m",
      "\u001b[1;31mAssertionError\u001b[0m                            Traceback (most recent call last)",
      "\u001b[1;32m<ipython-input-30-3b6e662e83d5>\u001b[0m in \u001b[0;36m<module>\u001b[1;34m\u001b[0m\n\u001b[0;32m     31\u001b[0m         \u001b[0mplt\u001b[0m\u001b[1;33m.\u001b[0m\u001b[0mshow\u001b[0m\u001b[1;33m(\u001b[0m\u001b[1;33m)\u001b[0m\u001b[1;33m\u001b[0m\u001b[1;33m\u001b[0m\u001b[0m\n\u001b[0;32m     32\u001b[0m \u001b[1;33m\u001b[0m\u001b[0m\n\u001b[1;32m---> 33\u001b[1;33m \u001b[1;32massert\u001b[0m \u001b[0mnp\u001b[0m\u001b[1;33m.\u001b[0m\u001b[0mmean\u001b[0m\u001b[1;33m(\u001b[0m\u001b[0mhistory\u001b[0m\u001b[1;33m[\u001b[0m\u001b[1;33m:\u001b[0m\u001b[1;36m10\u001b[0m\u001b[1;33m]\u001b[0m\u001b[1;33m)\u001b[0m \u001b[1;33m>\u001b[0m \u001b[0mnp\u001b[0m\u001b[1;33m.\u001b[0m\u001b[0mmean\u001b[0m\u001b[1;33m(\u001b[0m\u001b[0mhistory\u001b[0m\u001b[1;33m[\u001b[0m\u001b[1;33m-\u001b[0m\u001b[1;36m10\u001b[0m\u001b[1;33m:\u001b[0m\u001b[1;33m]\u001b[0m\u001b[1;33m)\u001b[0m\u001b[1;33m,\u001b[0m \u001b[1;34m\"RNN didn't converge.\"\u001b[0m\u001b[1;33m\u001b[0m\u001b[1;33m\u001b[0m\u001b[0m\n\u001b[0m",
      "\u001b[1;31mAssertionError\u001b[0m: RNN didn't converge."
     ]
    }
   ],
   "source": [
    "MAX_LENGTH = 16\n",
    "\n",
    "for i in range(10):\n",
    "    batch_ix = to_matrix(sample(names, 32), max_len=MAX_LENGTH)\n",
    "    batch_ix = torch.tensor(batch_ix, dtype=torch.int64)\n",
    "    \n",
    "    logp_seq = model(batch_ix)\n",
    "    \n",
    "    # compute loss\n",
    "    \n",
    "    # YOUR CODE HERE\n",
    "\n",
    "    loss = criterion(logp_seq[:, :-1].contiguous().view(-1, num_tokens),\n",
    "                 batch_ix[:, 1:].contiguous().view(-1))\n",
    "    # print(logp_seq)\n",
    "    # print(batch_ix)\n",
    "\n",
    "    loss.backward()\n",
    "    opt.step()\n",
    "    opt.zero_grad()\n",
    "    \n",
    "    # train with backprop\n",
    "\n",
    "    # YOUR CODE HERE\n",
    "    \n",
    "    history.append(loss.data.numpy())\n",
    "    if (i+1)%100==0:\n",
    "        clear_output(True)\n",
    "        plt.plot(history,label='loss')\n",
    "        plt.legend()\n",
    "        plt.show()\n",
    "\n",
    "assert np.mean(history[:10]) > np.mean(history[-10:]), \"RNN didn't converge.\""
   ]
  },
  {
   "cell_type": "code",
   "execution_count": 225,
   "metadata": {
    "tags": []
   },
   "outputs": [],
   "source": [
    "def generate_sample(char_rnn=model, seed_phrase=' ', max_length=MAX_LENGTH, temperature=1.0):\n",
    "    '''\n",
    "    The function generates text given a phrase of length at least SEQ_LENGTH.\n",
    "    :param seed_phrase: prefix characters. The RNN is asked to continue the phrase\n",
    "    :param max_length: maximum output length, including seed_phrase\n",
    "    :param temperature: coefficient for sampling.  higher temperature produces more chaotic outputs,\n",
    "                        smaller temperature converges to the single most likely output\n",
    "    '''\n",
    "    x_sequence = [token_to_id[token] for token in seed_phrase]\n",
    "    x_sequence = torch.tensor([x_sequence], dtype=torch.int64)\n",
    "    \n",
    "    #start generating\n",
    "    for _ in range(4):\n",
    "        p_next = char_rnn(x_sequence).data.numpy()\n",
    "        # print(p_next[0][-1:][0], x_sequence)\n",
    "        p_next = torch.tensor(p_next[0][-1:][0])\n",
    "        p_next = torch.softmax(p_next/ temperature, dim=-1) \n",
    "        # sample next token and push it back into x_sequence\n",
    "        # выбираем рандомный номер из распределения вероятностей что мы получили\n",
    "        next_ix = np.random.choice(num_tokens,p=p_next.data.numpy())\n",
    "        next_ix = torch.tensor([[next_ix]], dtype=torch.int64)\n",
    "        x_sequence = torch.cat([x_sequence, next_ix], dim=1)\n",
    "        \n",
    "    return ''.join([tokens[ix] for ix in x_sequence.data.numpy()[0]])\n",
    "# generate_sample(seed_phrase=\" \")\n"
   ]
  },
  {
   "cell_type": "code",
   "execution_count": 294,
   "metadata": {},
   "outputs": [
    {
     "output_type": "stream",
     "name": "stdout",
     "text": [
      " EmJer \n Emmera\n Emymel\n Emille\n Emcis \n Emeita\n Emwpee\n Emordo\n Emmmon\n Emimet\n"
     ]
    }
   ],
   "source": [
    "for _ in range(10):\n",
    "    print(generate_sample(seed_phrase=' Em', temperature=1) )"
   ]
  },
  {
   "cell_type": "code",
   "execution_count": 295,
   "metadata": {},
   "outputs": [
    {
     "output_type": "stream",
     "name": "stdout",
     "text": [
      " Jomi\n Lend\n Tran\n Romo\n"
     ]
    }
   ],
   "source": [
    "print(generate_sample(seed_phrase=\" \"))\n",
    "print(generate_sample(seed_phrase=\" \"))\n",
    "print(generate_sample(seed_phrase=\" \"))\n",
    "print(generate_sample(seed_phrase=\" \"))"
   ]
  },
  {
   "cell_type": "markdown",
   "metadata": {},
   "source": [
    "### To sum up:\n",
    "- PyTorch is convenient both for prototyping and production\n",
    "- There are a lot of pre-implemented methods/layers/activations out of the box\n",
    "- It's much easier (*really easier*) to use PyTorch than TensorFlow on entry level. \n",
    "- Neural networks are not *black boxes*, they are pretty nice and easy to use (almost always)."
   ]
  },
  {
   "cell_type": "markdown",
   "metadata": {},
   "source": [
    "### Try it out!\n",
    "You've just implemented a recurrent language model that can be tasked with generating any kind of sequence, so there's plenty of data you can try it on:\n",
    "\n",
    "* Novels/poems/songs of your favorite author\n",
    "* News titles/clickbait titles\n",
    "* Source code of Linux or Tensorflow\n",
    "* Molecules in [smiles](https://en.wikipedia.org/wiki/Simplified_molecular-input_line-entry_system) format\n",
    "* Melody in notes/chords format\n",
    "* Ikea catalog titles\n",
    "* Pokemon names\n",
    "* Cards from Magic, the Gathering / Hearthstone\n",
    "\n",
    "If you're willing to give it a try, here's what you wanna look at:\n",
    "* Current data format is a sequence of lines, so a novel can be formatted as a list of sentences. Alternatively, you can change data preprocessing altogether.\n",
    "* While some datasets are readily available, others can only be scraped from the web. Try `Selenium` or `Scrapy` for that.\n",
    "* Make sure MAX_LENGTH is adjusted for longer datasets. There's also a bonus section about dynamic RNNs at the bottom.\n",
    "* More complex tasks require larger RNN architecture, try more neurons or several layers. It would also require more training iterations.\n",
    "* Long-term dependencies in music, novels or molecules are better handled with LSTM or GRU\n",
    "\n",
    "__Good hunting!__"
   ]
  }
 ],
 "metadata": {
  "kernelspec": {
   "name": "python3",
   "display_name": "Python 3.8.0 64-bit ('ai-env')",
   "metadata": {
    "interpreter": {
     "hash": "ee89ffdf677b068b3969c9c92fc557abd8fe9bdccee3c1b3432324df722c1402"
    }
   }
  },
  "language_info": {
   "codemirror_mode": {
    "name": "ipython",
    "version": 3
   },
   "file_extension": ".py",
   "mimetype": "text/x-python",
   "name": "python",
   "nbconvert_exporter": "python",
   "pygments_lexer": "ipython3",
   "version": "3.8.0-final"
  }
 },
 "nbformat": 4,
 "nbformat_minor": 1
}